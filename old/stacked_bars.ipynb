{
 "cells": [
  {
   "cell_type": "code",
   "execution_count": 1,
   "metadata": {},
   "outputs": [],
   "source": [
    "import numpy as np\n",
    "import pandas as pd\n",
    "import seaborn as sns; sns.set()\n",
    "import matplotlib.pyplot as plt"
   ]
  },
  {
   "cell_type": "code",
   "execution_count": 2,
   "metadata": {},
   "outputs": [],
   "source": [
    "pd.set_option('display.max_rows', None)\n",
    "pd.set_option('display.max_columns', None)\n",
    "pd.set_option('display.width', None)\n",
    "pd.set_option('display.max_colwidth', -1)"
   ]
  },
  {
   "cell_type": "code",
   "execution_count": 160,
   "metadata": {},
   "outputs": [],
   "source": [
    "data = pd.read_csv('responses.csv')"
   ]
  },
  {
   "cell_type": "code",
   "execution_count": 135,
   "metadata": {},
   "outputs": [
    {
     "data": {
      "text/html": [
       "<div>\n",
       "<style scoped>\n",
       "    .dataframe tbody tr th:only-of-type {\n",
       "        vertical-align: middle;\n",
       "    }\n",
       "\n",
       "    .dataframe tbody tr th {\n",
       "        vertical-align: top;\n",
       "    }\n",
       "\n",
       "    .dataframe thead th {\n",
       "        text-align: right;\n",
       "    }\n",
       "</style>\n",
       "<table border=\"1\" class=\"dataframe\">\n",
       "  <thead>\n",
       "    <tr style=\"text-align: right;\">\n",
       "      <th></th>\n",
       "      <th>birth</th>\n",
       "      <th>gender</th>\n",
       "      <th>sexuality</th>\n",
       "      <th>ethnicity</th>\n",
       "      <th>childhood</th>\n",
       "      <th>religion</th>\n",
       "      <th>politics</th>\n",
       "      <th>parent_edu</th>\n",
       "      <th>parent_north_amer</th>\n",
       "      <th>household_inc</th>\n",
       "      <th>parent_stem</th>\n",
       "      <th>family_funded</th>\n",
       "      <th>hs_avg</th>\n",
       "      <th>hs_extrac</th>\n",
       "      <th>hs_accel</th>\n",
       "      <th>discovery</th>\n",
       "      <th>fac_apps</th>\n",
       "      <th>industry_goal</th>\n",
       "      <th>job_search_1a</th>\n",
       "      <th>job_search_1b</th>\n",
       "      <th>job_search_2a</th>\n",
       "      <th>job_search_2b</th>\n",
       "      <th>job_search_3a</th>\n",
       "      <th>job_search_3b</th>\n",
       "      <th>industry_1a</th>\n",
       "      <th>industry_1b</th>\n",
       "      <th>industry_2a</th>\n",
       "      <th>industry_2b</th>\n",
       "      <th>industry_3a</th>\n",
       "      <th>industry_3b</th>\n",
       "      <th>city_1a</th>\n",
       "      <th>city_1b</th>\n",
       "      <th>city_2a</th>\n",
       "      <th>city_2b</th>\n",
       "      <th>city_3a</th>\n",
       "      <th>city_3b</th>\n",
       "      <th>salary_1a</th>\n",
       "      <th>currency_1a</th>\n",
       "      <th>salary_1b</th>\n",
       "      <th>currency_1b</th>\n",
       "      <th>salary_2a</th>\n",
       "      <th>currency_2a</th>\n",
       "      <th>salary_2b</th>\n",
       "      <th>currency_2b</th>\n",
       "      <th>salary_3a</th>\n",
       "      <th>currency_3a</th>\n",
       "      <th>salary_3b</th>\n",
       "      <th>currency_3b</th>\n",
       "      <th>negotiate</th>\n",
       "      <th>negotiate_add</th>\n",
       "      <th>uni_fund</th>\n",
       "      <th>company_1a</th>\n",
       "      <th>company_1b</th>\n",
       "      <th>company_2a</th>\n",
       "      <th>company_2b</th>\n",
       "      <th>company_3a</th>\n",
       "      <th>company_3b</th>\n",
       "      <th>avg_1a</th>\n",
       "      <th>avg_1b</th>\n",
       "      <th>avg_2a</th>\n",
       "      <th>avg_2b</th>\n",
       "      <th>avg_3a</th>\n",
       "      <th>avg_3b</th>\n",
       "      <th>avg_4a</th>\n",
       "      <th>avg_4b_estim</th>\n",
       "      <th>avg_4a_cumul</th>\n",
       "      <th>avg_4b_cumul_estim</th>\n",
       "      <th>rent_1a</th>\n",
       "      <th>rent_1b</th>\n",
       "      <th>rent_2a</th>\n",
       "      <th>rent_2b</th>\n",
       "      <th>rent_3a</th>\n",
       "      <th>rent_3b</th>\n",
       "      <th>rent_4a</th>\n",
       "      <th>rent_4b</th>\n",
       "      <th>stress_1a</th>\n",
       "      <th>stress_1b</th>\n",
       "      <th>stress_2a</th>\n",
       "      <th>stress_2b</th>\n",
       "      <th>stress_3a</th>\n",
       "      <th>stress_3b</th>\n",
       "      <th>stress_4a</th>\n",
       "      <th>stress_4b</th>\n",
       "      <th>attendance_1a</th>\n",
       "      <th>attendance_1b</th>\n",
       "      <th>attendance_2a</th>\n",
       "      <th>attendance_2b</th>\n",
       "      <th>attendance_3a</th>\n",
       "      <th>attendance_3b</th>\n",
       "      <th>attendance_4a</th>\n",
       "      <th>attendance_4b</th>\n",
       "      <th>years_to_finish</th>\n",
       "      <th>exchange</th>\n",
       "      <th>most_interesting</th>\n",
       "      <th>most_interesting_grade</th>\n",
       "      <th>most_useful</th>\n",
       "      <th>most_useful_grade</th>\n",
       "      <th>worst</th>\n",
       "      <th>worst_grade</th>\n",
       "    </tr>\n",
       "  </thead>\n",
       "  <tbody>\n",
       "    <tr>\n",
       "      <th>0</th>\n",
       "      <td>1997</td>\n",
       "      <td>Female</td>\n",
       "      <td>Heterosexual</td>\n",
       "      <td>East Asian</td>\n",
       "      <td>KW</td>\n",
       "      <td>None</td>\n",
       "      <td>3</td>\n",
       "      <td>Technical Degree</td>\n",
       "      <td>Yes</td>\n",
       "      <td>$100 - 150k</td>\n",
       "      <td>No</td>\n",
       "      <td>25 - 50%</td>\n",
       "      <td>87.0</td>\n",
       "      <td>Organized sports, Local volunteering, Music, Non-engineering related job</td>\n",
       "      <td>None</td>\n",
       "      <td>University open house</td>\n",
       "      <td>None</td>\n",
       "      <td>Healthcare</td>\n",
       "      <td>Waterloo Works</td>\n",
       "      <td>Waterloo Works</td>\n",
       "      <td>Waterloo Works</td>\n",
       "      <td>Waterloo Works</td>\n",
       "      <td>Networking/ Referral</td>\n",
       "      <td>Waterloo Works</td>\n",
       "      <td>Software</td>\n",
       "      <td>Software</td>\n",
       "      <td>Software</td>\n",
       "      <td>UI/UX Design</td>\n",
       "      <td>Project Management</td>\n",
       "      <td>UI/UX Design</td>\n",
       "      <td>GTA</td>\n",
       "      <td>KW</td>\n",
       "      <td>GTA</td>\n",
       "      <td>KW</td>\n",
       "      <td>GTA</td>\n",
       "      <td>GTA</td>\n",
       "      <td>20.00</td>\n",
       "      <td>cad</td>\n",
       "      <td>17.00</td>\n",
       "      <td>cad</td>\n",
       "      <td>21.0</td>\n",
       "      <td>cad</td>\n",
       "      <td>22.0</td>\n",
       "      <td>cad</td>\n",
       "      <td>20.0</td>\n",
       "      <td>cad</td>\n",
       "      <td>24.0</td>\n",
       "      <td>cad</td>\n",
       "      <td>Yes</td>\n",
       "      <td>4.0</td>\n",
       "      <td>Family, Co-op, Student loans, High school savings, Part-time job</td>\n",
       "      <td>Software</td>\n",
       "      <td>Manufacturing</td>\n",
       "      <td>Software</td>\n",
       "      <td>Finance</td>\n",
       "      <td>Healthcare/ Biotech</td>\n",
       "      <td>Software</td>\n",
       "      <td>62.00</td>\n",
       "      <td>71.00</td>\n",
       "      <td>66.0</td>\n",
       "      <td>66.00</td>\n",
       "      <td>72.0</td>\n",
       "      <td>66.00</td>\n",
       "      <td>73.0</td>\n",
       "      <td>79.0</td>\n",
       "      <td>70.00</td>\n",
       "      <td>70.00</td>\n",
       "      <td>$500 - 600/month</td>\n",
       "      <td>$500 - 600/month</td>\n",
       "      <td>$500 - 600/month</td>\n",
       "      <td>&lt; $500/ month</td>\n",
       "      <td>&lt; $500/ month</td>\n",
       "      <td>$700 - 800/month</td>\n",
       "      <td>Lived at home</td>\n",
       "      <td>Lived at home</td>\n",
       "      <td>9.0</td>\n",
       "      <td>4.0</td>\n",
       "      <td>9.0</td>\n",
       "      <td>9.0</td>\n",
       "      <td>9.0</td>\n",
       "      <td>6.0</td>\n",
       "      <td>4.0</td>\n",
       "      <td>2.0</td>\n",
       "      <td>Almost always</td>\n",
       "      <td>Almost always</td>\n",
       "      <td>Almost always</td>\n",
       "      <td>Almost always</td>\n",
       "      <td>Most of the time</td>\n",
       "      <td>Most of the time</td>\n",
       "      <td>About half the time</td>\n",
       "      <td>Occasionally</td>\n",
       "      <td>5.0</td>\n",
       "      <td>None</td>\n",
       "      <td>CLAS 104</td>\n",
       "      <td>NaN</td>\n",
       "      <td>SYDE 348</td>\n",
       "      <td>NaN</td>\n",
       "      <td>SYDE 292</td>\n",
       "      <td>NaN</td>\n",
       "    </tr>\n",
       "    <tr>\n",
       "      <th>1</th>\n",
       "      <td>1997</td>\n",
       "      <td>Female</td>\n",
       "      <td>Heterosexual</td>\n",
       "      <td>Southeast Asian</td>\n",
       "      <td>KW</td>\n",
       "      <td>Agnostic</td>\n",
       "      <td>1</td>\n",
       "      <td>Masters</td>\n",
       "      <td>No</td>\n",
       "      <td>$50 - 100k</td>\n",
       "      <td>Yes, engineering</td>\n",
       "      <td>0 - 25%</td>\n",
       "      <td>89.0</td>\n",
       "      <td>Student club member, Theatre, Engineering related job</td>\n",
       "      <td>None</td>\n",
       "      <td>Family</td>\n",
       "      <td>Arts</td>\n",
       "      <td>No idea</td>\n",
       "      <td>Networking/ Referral</td>\n",
       "      <td>Networking/ Referral</td>\n",
       "      <td>Networking/ Referral</td>\n",
       "      <td>Networking/ Referral</td>\n",
       "      <td>Waterloo Works</td>\n",
       "      <td>Networking/ Referral</td>\n",
       "      <td>UI/UX Design</td>\n",
       "      <td>UI/UX Design</td>\n",
       "      <td>UI/UX Design</td>\n",
       "      <td>UI/UX Design</td>\n",
       "      <td>UI/UX Design</td>\n",
       "      <td>UI/UX Design</td>\n",
       "      <td>KW</td>\n",
       "      <td>Other Canada</td>\n",
       "      <td>Other Canada</td>\n",
       "      <td>KW</td>\n",
       "      <td>Cali</td>\n",
       "      <td>KW</td>\n",
       "      <td>19.00</td>\n",
       "      <td>cad</td>\n",
       "      <td>35.00</td>\n",
       "      <td>cad</td>\n",
       "      <td>35.0</td>\n",
       "      <td>cad</td>\n",
       "      <td>18.0</td>\n",
       "      <td>cad</td>\n",
       "      <td>NaN</td>\n",
       "      <td>NaN</td>\n",
       "      <td>25.0</td>\n",
       "      <td>cad</td>\n",
       "      <td>Yes</td>\n",
       "      <td>10.0</td>\n",
       "      <td>Co-op, RESP</td>\n",
       "      <td>Software</td>\n",
       "      <td>Healthcare/ Biotech</td>\n",
       "      <td>Healthcare/ Biotech</td>\n",
       "      <td>Consulting</td>\n",
       "      <td>Healthcare/ Biotech</td>\n",
       "      <td>Hardware</td>\n",
       "      <td>69.00</td>\n",
       "      <td>67.00</td>\n",
       "      <td>67.0</td>\n",
       "      <td>62.00</td>\n",
       "      <td>69.0</td>\n",
       "      <td>73.00</td>\n",
       "      <td>75.0</td>\n",
       "      <td>79.0</td>\n",
       "      <td>69.00</td>\n",
       "      <td>70.00</td>\n",
       "      <td>Lived at home</td>\n",
       "      <td>Lived at home</td>\n",
       "      <td>Lived at home</td>\n",
       "      <td>Lived at home</td>\n",
       "      <td>Lived at home</td>\n",
       "      <td>Lived at home</td>\n",
       "      <td>Lived at home</td>\n",
       "      <td>Lived at home</td>\n",
       "      <td>7.0</td>\n",
       "      <td>2.0</td>\n",
       "      <td>9.0</td>\n",
       "      <td>10.0</td>\n",
       "      <td>10.0</td>\n",
       "      <td>8.0</td>\n",
       "      <td>7.0</td>\n",
       "      <td>5.0</td>\n",
       "      <td>Almost always</td>\n",
       "      <td>About half the time</td>\n",
       "      <td>Most of the time</td>\n",
       "      <td>Most of the time</td>\n",
       "      <td>Most of the time</td>\n",
       "      <td>Most of the time</td>\n",
       "      <td>Most of the time</td>\n",
       "      <td>Most of the time</td>\n",
       "      <td>5.0</td>\n",
       "      <td>None</td>\n",
       "      <td>SYDE 348</td>\n",
       "      <td>87.0</td>\n",
       "      <td>SYDE 348</td>\n",
       "      <td>87.0</td>\n",
       "      <td>SYDE 292</td>\n",
       "      <td>50.0</td>\n",
       "    </tr>\n",
       "    <tr>\n",
       "      <th>2</th>\n",
       "      <td>1997</td>\n",
       "      <td>Female</td>\n",
       "      <td>Homosexual</td>\n",
       "      <td>East Asian</td>\n",
       "      <td>GTA</td>\n",
       "      <td>Catholic</td>\n",
       "      <td>3</td>\n",
       "      <td>Bachelors</td>\n",
       "      <td>No</td>\n",
       "      <td>$150 - 200k</td>\n",
       "      <td>Yes, but not engineering</td>\n",
       "      <td>75 - 100%</td>\n",
       "      <td>89.0</td>\n",
       "      <td>Organized sports, Local volunteering, Non-engineering related job</td>\n",
       "      <td>None</td>\n",
       "      <td>Website/research</td>\n",
       "      <td>Computer Science</td>\n",
       "      <td>Finance</td>\n",
       "      <td>Waterloo Works</td>\n",
       "      <td>Previous Employer</td>\n",
       "      <td>Waterloo Works</td>\n",
       "      <td>Waterloo Works</td>\n",
       "      <td>Waterloo Works</td>\n",
       "      <td>Previous Employer</td>\n",
       "      <td>Other</td>\n",
       "      <td>Other</td>\n",
       "      <td>Software</td>\n",
       "      <td>Software</td>\n",
       "      <td>Software</td>\n",
       "      <td>Software</td>\n",
       "      <td>GTA</td>\n",
       "      <td>GTA</td>\n",
       "      <td>GTA</td>\n",
       "      <td>GTA</td>\n",
       "      <td>Cali</td>\n",
       "      <td>Cali</td>\n",
       "      <td>17.50</td>\n",
       "      <td>cad</td>\n",
       "      <td>17.50</td>\n",
       "      <td>cad</td>\n",
       "      <td>22.5</td>\n",
       "      <td>cad</td>\n",
       "      <td>22.5</td>\n",
       "      <td>cad</td>\n",
       "      <td>35.0</td>\n",
       "      <td>usd</td>\n",
       "      <td>35.0</td>\n",
       "      <td>usd</td>\n",
       "      <td>No</td>\n",
       "      <td>NaN</td>\n",
       "      <td>Family</td>\n",
       "      <td>Finance</td>\n",
       "      <td>Finance</td>\n",
       "      <td>Software</td>\n",
       "      <td>Software</td>\n",
       "      <td>Software</td>\n",
       "      <td>Software</td>\n",
       "      <td>72.46</td>\n",
       "      <td>74.42</td>\n",
       "      <td>72.8</td>\n",
       "      <td>77.38</td>\n",
       "      <td>77.0</td>\n",
       "      <td>76.27</td>\n",
       "      <td>75.4</td>\n",
       "      <td>80.0</td>\n",
       "      <td>75.16</td>\n",
       "      <td>77.58</td>\n",
       "      <td>$600 - 700/month</td>\n",
       "      <td>$600 - 700/month</td>\n",
       "      <td>&lt; $500/ month</td>\n",
       "      <td>$600 - 700/month</td>\n",
       "      <td>$600 - 700/month</td>\n",
       "      <td>$600 - 700/month</td>\n",
       "      <td>$600 - 700/month</td>\n",
       "      <td>$600 - 700/month</td>\n",
       "      <td>10.0</td>\n",
       "      <td>6.0</td>\n",
       "      <td>5.0</td>\n",
       "      <td>7.0</td>\n",
       "      <td>5.0</td>\n",
       "      <td>10.0</td>\n",
       "      <td>4.0</td>\n",
       "      <td>4.0</td>\n",
       "      <td>Almost always</td>\n",
       "      <td>Almost always</td>\n",
       "      <td>Almost always</td>\n",
       "      <td>Almost always</td>\n",
       "      <td>Almost always</td>\n",
       "      <td>Almost always</td>\n",
       "      <td>Almost always</td>\n",
       "      <td>Almost always</td>\n",
       "      <td>5.0</td>\n",
       "      <td>None</td>\n",
       "      <td>MSCI 436</td>\n",
       "      <td>90.0</td>\n",
       "      <td>MSCI 436</td>\n",
       "      <td>90.0</td>\n",
       "      <td>SYDE 383</td>\n",
       "      <td>55.0</td>\n",
       "    </tr>\n",
       "    <tr>\n",
       "      <th>3</th>\n",
       "      <td>1995</td>\n",
       "      <td>Female</td>\n",
       "      <td>Heterosexual</td>\n",
       "      <td>Cauasian</td>\n",
       "      <td>International</td>\n",
       "      <td>Muslim</td>\n",
       "      <td>2</td>\n",
       "      <td>Bachelors</td>\n",
       "      <td>No</td>\n",
       "      <td>$0 - 50k</td>\n",
       "      <td>No</td>\n",
       "      <td>0 - 25%</td>\n",
       "      <td>NaN</td>\n",
       "      <td>None</td>\n",
       "      <td>None</td>\n",
       "      <td>Website/research</td>\n",
       "      <td>NaN</td>\n",
       "      <td>Manufacturing</td>\n",
       "      <td>Waterloo Works</td>\n",
       "      <td>Previous Employer</td>\n",
       "      <td>Waterloo Works</td>\n",
       "      <td>Waterloo Works</td>\n",
       "      <td>Waterloo Works</td>\n",
       "      <td>Previous Employer</td>\n",
       "      <td>Software</td>\n",
       "      <td>Software</td>\n",
       "      <td>Software</td>\n",
       "      <td>Software</td>\n",
       "      <td>Software</td>\n",
       "      <td>Software</td>\n",
       "      <td>GTA</td>\n",
       "      <td>GTA</td>\n",
       "      <td>GTA</td>\n",
       "      <td>KW</td>\n",
       "      <td>KW</td>\n",
       "      <td>KW</td>\n",
       "      <td>18.75</td>\n",
       "      <td>cad</td>\n",
       "      <td>18.75</td>\n",
       "      <td>cad</td>\n",
       "      <td>21.0</td>\n",
       "      <td>cad</td>\n",
       "      <td>30.0</td>\n",
       "      <td>cad</td>\n",
       "      <td>26.0</td>\n",
       "      <td>cad</td>\n",
       "      <td>30.0</td>\n",
       "      <td>cad</td>\n",
       "      <td>No</td>\n",
       "      <td>NaN</td>\n",
       "      <td>Bursaries</td>\n",
       "      <td>Finance</td>\n",
       "      <td>Finance</td>\n",
       "      <td>Academia/ Research</td>\n",
       "      <td>Academia/ Research</td>\n",
       "      <td>Software</td>\n",
       "      <td>Software</td>\n",
       "      <td>73.46</td>\n",
       "      <td>75.67</td>\n",
       "      <td>65.0</td>\n",
       "      <td>69.69</td>\n",
       "      <td>73.0</td>\n",
       "      <td>74.00</td>\n",
       "      <td>75.4</td>\n",
       "      <td>NaN</td>\n",
       "      <td>72.35</td>\n",
       "      <td>NaN</td>\n",
       "      <td>&gt; $800/ month</td>\n",
       "      <td>&gt; $800/ month</td>\n",
       "      <td>$600 - 700/month</td>\n",
       "      <td>$600 - 700/month</td>\n",
       "      <td>$600 - 700/month</td>\n",
       "      <td>$600 - 700/month</td>\n",
       "      <td>$600 - 700/month</td>\n",
       "      <td>$600 - 700/month</td>\n",
       "      <td>6.0</td>\n",
       "      <td>5.0</td>\n",
       "      <td>9.0</td>\n",
       "      <td>9.0</td>\n",
       "      <td>7.0</td>\n",
       "      <td>8.0</td>\n",
       "      <td>7.0</td>\n",
       "      <td>7.0</td>\n",
       "      <td>Most of the time</td>\n",
       "      <td>Most of the time</td>\n",
       "      <td>Most of the time</td>\n",
       "      <td>Most of the time</td>\n",
       "      <td>Most of the time</td>\n",
       "      <td>Most of the time</td>\n",
       "      <td>Most of the time</td>\n",
       "      <td>Most of the time</td>\n",
       "      <td>5.0</td>\n",
       "      <td>None</td>\n",
       "      <td>SYDE 372</td>\n",
       "      <td>NaN</td>\n",
       "      <td>SYDE 372</td>\n",
       "      <td>NaN</td>\n",
       "      <td>SYDE 283</td>\n",
       "      <td>NaN</td>\n",
       "    </tr>\n",
       "    <tr>\n",
       "      <th>4</th>\n",
       "      <td>1997</td>\n",
       "      <td>Male</td>\n",
       "      <td>Heterosexual</td>\n",
       "      <td>East Asian</td>\n",
       "      <td>GTA</td>\n",
       "      <td>Agnostic</td>\n",
       "      <td>2</td>\n",
       "      <td>Masters</td>\n",
       "      <td>No</td>\n",
       "      <td>$100 - 150k</td>\n",
       "      <td>Yes, engineering</td>\n",
       "      <td>25 - 50%</td>\n",
       "      <td>93.0</td>\n",
       "      <td>Organized sports, Local volunteering, Leadership program, Student club leader</td>\n",
       "      <td>None</td>\n",
       "      <td>University fair</td>\n",
       "      <td>just engineering</td>\n",
       "      <td>Healthcare</td>\n",
       "      <td>Waterloo Works</td>\n",
       "      <td>Waterloo Works</td>\n",
       "      <td>Waterloo Works</td>\n",
       "      <td>Waterloo Works</td>\n",
       "      <td>Waterloo Works</td>\n",
       "      <td>Waterloo Works</td>\n",
       "      <td>Other</td>\n",
       "      <td>Other</td>\n",
       "      <td>Software</td>\n",
       "      <td>UI/UX Design</td>\n",
       "      <td>UI/UX Design</td>\n",
       "      <td>UI/UX Design</td>\n",
       "      <td>KW</td>\n",
       "      <td>GTA</td>\n",
       "      <td>GTA</td>\n",
       "      <td>KW</td>\n",
       "      <td>KW</td>\n",
       "      <td>KW</td>\n",
       "      <td>15.00</td>\n",
       "      <td>cad</td>\n",
       "      <td>18.00</td>\n",
       "      <td>cad</td>\n",
       "      <td>21.0</td>\n",
       "      <td>cad</td>\n",
       "      <td>25.0</td>\n",
       "      <td>cad</td>\n",
       "      <td>30.0</td>\n",
       "      <td>cad</td>\n",
       "      <td>25.0</td>\n",
       "      <td>cad</td>\n",
       "      <td>Yes</td>\n",
       "      <td>5.0</td>\n",
       "      <td>Family, Co-op, Student loans</td>\n",
       "      <td>Other</td>\n",
       "      <td>Government/ Non-Profit</td>\n",
       "      <td>Finance</td>\n",
       "      <td>Government/ Non-Profit</td>\n",
       "      <td>Software</td>\n",
       "      <td>Software</td>\n",
       "      <td>73.36</td>\n",
       "      <td>74.25</td>\n",
       "      <td>69.6</td>\n",
       "      <td>70.15</td>\n",
       "      <td>76.6</td>\n",
       "      <td>72.00</td>\n",
       "      <td>84.0</td>\n",
       "      <td>NaN</td>\n",
       "      <td>NaN</td>\n",
       "      <td>NaN</td>\n",
       "      <td>$600 - 700/month</td>\n",
       "      <td>$600 - 700/month</td>\n",
       "      <td>$500 - 600/month</td>\n",
       "      <td>$500 - 600/month</td>\n",
       "      <td>$500 - 600/month</td>\n",
       "      <td>$500 - 600/month</td>\n",
       "      <td>$500 - 600/month</td>\n",
       "      <td>$500 - 600/month</td>\n",
       "      <td>5.0</td>\n",
       "      <td>2.0</td>\n",
       "      <td>5.0</td>\n",
       "      <td>10.0</td>\n",
       "      <td>3.0</td>\n",
       "      <td>5.0</td>\n",
       "      <td>2.0</td>\n",
       "      <td>2.0</td>\n",
       "      <td>Almost always</td>\n",
       "      <td>Almost always</td>\n",
       "      <td>Almost always</td>\n",
       "      <td>Almost always</td>\n",
       "      <td>Almost always</td>\n",
       "      <td>Most of the time</td>\n",
       "      <td>About half the time</td>\n",
       "      <td>Occasionally</td>\n",
       "      <td>4.0</td>\n",
       "      <td>None</td>\n",
       "      <td>SPCOM 223</td>\n",
       "      <td>80.0</td>\n",
       "      <td>SYDE 162</td>\n",
       "      <td>85.0</td>\n",
       "      <td>SYDE 283</td>\n",
       "      <td>33.0</td>\n",
       "    </tr>\n",
       "  </tbody>\n",
       "</table>\n",
       "</div>"
      ],
      "text/plain": [
       "   birth  gender     sexuality        ethnicity      childhood  religion  \\\n",
       "0  1997   Female  Heterosexual  East Asian       KW             None       \n",
       "1  1997   Female  Heterosexual  Southeast Asian  KW             Agnostic   \n",
       "2  1997   Female  Homosexual    East Asian       GTA            Catholic   \n",
       "3  1995   Female  Heterosexual  Cauasian         International  Muslim     \n",
       "4  1997   Male    Heterosexual  East Asian       GTA            Agnostic   \n",
       "\n",
       "   politics        parent_edu parent_north_amer household_inc  \\\n",
       "0  3         Technical Degree  Yes               $100 - 150k    \n",
       "1  1         Masters           No                $50 - 100k     \n",
       "2  3         Bachelors         No                $150 - 200k    \n",
       "3  2         Bachelors         No                $0 - 50k       \n",
       "4  2         Masters           No                $100 - 150k    \n",
       "\n",
       "                parent_stem family_funded  hs_avg  \\\n",
       "0  No                        25 - 50%      87.0     \n",
       "1  Yes, engineering          0 - 25%       89.0     \n",
       "2  Yes, but not engineering  75 - 100%     89.0     \n",
       "3  No                        0 - 25%      NaN       \n",
       "4  Yes, engineering          25 - 50%      93.0     \n",
       "\n",
       "                                                                       hs_extrac  \\\n",
       "0  Organized sports, Local volunteering, Music, Non-engineering related job        \n",
       "1  Student club member, Theatre, Engineering related job                           \n",
       "2  Organized sports, Local volunteering, Non-engineering related job               \n",
       "3  None                                                                            \n",
       "4  Organized sports, Local volunteering, Leadership program, Student club leader   \n",
       "\n",
       "  hs_accel              discovery          fac_apps  industry_goal  \\\n",
       "0  None     University open house  None              Healthcare      \n",
       "1  None     Family                 Arts              No idea         \n",
       "2  None     Website/research       Computer Science  Finance         \n",
       "3  None     Website/research       NaN               Manufacturing   \n",
       "4  None     University fair        just engineering  Healthcare      \n",
       "\n",
       "          job_search_1a         job_search_1b         job_search_2a  \\\n",
       "0  Waterloo Works        Waterloo Works        Waterloo Works         \n",
       "1  Networking/ Referral  Networking/ Referral  Networking/ Referral   \n",
       "2  Waterloo Works        Previous Employer     Waterloo Works         \n",
       "3  Waterloo Works        Previous Employer     Waterloo Works         \n",
       "4  Waterloo Works        Waterloo Works        Waterloo Works         \n",
       "\n",
       "          job_search_2b         job_search_3a         job_search_3b  \\\n",
       "0  Waterloo Works        Networking/ Referral  Waterloo Works         \n",
       "1  Networking/ Referral  Waterloo Works        Networking/ Referral   \n",
       "2  Waterloo Works        Waterloo Works        Previous Employer      \n",
       "3  Waterloo Works        Waterloo Works        Previous Employer      \n",
       "4  Waterloo Works        Waterloo Works        Waterloo Works         \n",
       "\n",
       "    industry_1a   industry_1b   industry_2a   industry_2b         industry_3a  \\\n",
       "0  Software      Software      Software      UI/UX Design  Project Management   \n",
       "1  UI/UX Design  UI/UX Design  UI/UX Design  UI/UX Design  UI/UX Design         \n",
       "2  Other         Other         Software      Software      Software             \n",
       "3  Software      Software      Software      Software      Software             \n",
       "4  Other         Other         Software      UI/UX Design  UI/UX Design         \n",
       "\n",
       "    industry_3b city_1a       city_1b       city_2a city_2b city_3a city_3b  \\\n",
       "0  UI/UX Design  GTA     KW            GTA           KW      GTA     GTA      \n",
       "1  UI/UX Design  KW      Other Canada  Other Canada  KW      Cali    KW       \n",
       "2  Software      GTA     GTA           GTA           GTA     Cali    Cali     \n",
       "3  Software      GTA     GTA           GTA           KW      KW      KW       \n",
       "4  UI/UX Design  KW      GTA           GTA           KW      KW      KW       \n",
       "\n",
       "   salary_1a currency_1a  salary_1b currency_1b  salary_2a currency_2a  \\\n",
       "0  20.00      cad         17.00      cad         21.0       cad          \n",
       "1  19.00      cad         35.00      cad         35.0       cad          \n",
       "2  17.50      cad         17.50      cad         22.5       cad          \n",
       "3  18.75      cad         18.75      cad         21.0       cad          \n",
       "4  15.00      cad         18.00      cad         21.0       cad          \n",
       "\n",
       "   salary_2b currency_2b  salary_3a currency_3a  salary_3b currency_3b  \\\n",
       "0  22.0       cad         20.0       cad         24.0       cad          \n",
       "1  18.0       cad        NaN         NaN         25.0       cad          \n",
       "2  22.5       cad         35.0       usd         35.0       usd          \n",
       "3  30.0       cad         26.0       cad         30.0       cad          \n",
       "4  25.0       cad         30.0       cad         25.0       cad          \n",
       "\n",
       "  negotiate  negotiate_add  \\\n",
       "0  Yes       4.0             \n",
       "1  Yes       10.0            \n",
       "2  No       NaN              \n",
       "3  No       NaN              \n",
       "4  Yes       5.0             \n",
       "\n",
       "                                                           uni_fund  \\\n",
       "0  Family, Co-op, Student loans, High school savings, Part-time job   \n",
       "1  Co-op, RESP                                                        \n",
       "2  Family                                                             \n",
       "3  Bursaries                                                          \n",
       "4  Family, Co-op, Student loans                                       \n",
       "\n",
       "  company_1a              company_1b           company_2a  \\\n",
       "0  Software   Manufacturing           Software              \n",
       "1  Software   Healthcare/ Biotech     Healthcare/ Biotech   \n",
       "2  Finance    Finance                 Software              \n",
       "3  Finance    Finance                 Academia/ Research    \n",
       "4  Other      Government/ Non-Profit  Finance               \n",
       "\n",
       "               company_2b           company_3a company_3b  avg_1a  avg_1b  \\\n",
       "0  Finance                 Healthcare/ Biotech  Software   62.00   71.00    \n",
       "1  Consulting              Healthcare/ Biotech  Hardware   69.00   67.00    \n",
       "2  Software                Software             Software   72.46   74.42    \n",
       "3  Academia/ Research      Software             Software   73.46   75.67    \n",
       "4  Government/ Non-Profit  Software             Software   73.36   74.25    \n",
       "\n",
       "   avg_2a  avg_2b  avg_3a  avg_3b  avg_4a  avg_4b_estim  avg_4a_cumul  \\\n",
       "0  66.0    66.00   72.0    66.00   73.0    79.0          70.00          \n",
       "1  67.0    62.00   69.0    73.00   75.0    79.0          69.00          \n",
       "2  72.8    77.38   77.0    76.27   75.4    80.0          75.16          \n",
       "3  65.0    69.69   73.0    74.00   75.4   NaN            72.35          \n",
       "4  69.6    70.15   76.6    72.00   84.0   NaN           NaN             \n",
       "\n",
       "   avg_4b_cumul_estim           rent_1a           rent_1b           rent_2a  \\\n",
       "0  70.00               $500 - 600/month  $500 - 600/month  $500 - 600/month   \n",
       "1  70.00               Lived at home     Lived at home     Lived at home      \n",
       "2  77.58               $600 - 700/month  $600 - 700/month  < $500/ month      \n",
       "3 NaN                  > $800/ month     > $800/ month     $600 - 700/month   \n",
       "4 NaN                  $600 - 700/month  $600 - 700/month  $500 - 600/month   \n",
       "\n",
       "            rent_2b           rent_3a           rent_3b           rent_4a  \\\n",
       "0  < $500/ month     < $500/ month     $700 - 800/month  Lived at home      \n",
       "1  Lived at home     Lived at home     Lived at home     Lived at home      \n",
       "2  $600 - 700/month  $600 - 700/month  $600 - 700/month  $600 - 700/month   \n",
       "3  $600 - 700/month  $600 - 700/month  $600 - 700/month  $600 - 700/month   \n",
       "4  $500 - 600/month  $500 - 600/month  $500 - 600/month  $500 - 600/month   \n",
       "\n",
       "            rent_4b  stress_1a  stress_1b  stress_2a  stress_2b  stress_3a  \\\n",
       "0  Lived at home     9.0        4.0        9.0        9.0        9.0         \n",
       "1  Lived at home     7.0        2.0        9.0        10.0       10.0        \n",
       "2  $600 - 700/month  10.0       6.0        5.0        7.0        5.0         \n",
       "3  $600 - 700/month  6.0        5.0        9.0        9.0        7.0         \n",
       "4  $500 - 600/month  5.0        2.0        5.0        10.0       3.0         \n",
       "\n",
       "   stress_3b  stress_4a  stress_4b     attendance_1a        attendance_1b  \\\n",
       "0  6.0        4.0        2.0        Almost always     Almost always         \n",
       "1  8.0        7.0        5.0        Almost always     About half the time   \n",
       "2  10.0       4.0        4.0        Almost always     Almost always         \n",
       "3  8.0        7.0        7.0        Most of the time  Most of the time      \n",
       "4  5.0        2.0        2.0        Almost always     Almost always         \n",
       "\n",
       "      attendance_2a     attendance_2b     attendance_3a     attendance_3b  \\\n",
       "0  Almost always     Almost always     Most of the time  Most of the time   \n",
       "1  Most of the time  Most of the time  Most of the time  Most of the time   \n",
       "2  Almost always     Almost always     Almost always     Almost always      \n",
       "3  Most of the time  Most of the time  Most of the time  Most of the time   \n",
       "4  Almost always     Almost always     Almost always     Most of the time   \n",
       "\n",
       "         attendance_4a     attendance_4b  years_to_finish exchange  \\\n",
       "0  About half the time  Occasionally      5.0              None      \n",
       "1  Most of the time     Most of the time  5.0              None      \n",
       "2  Almost always        Almost always     5.0              None      \n",
       "3  Most of the time     Most of the time  5.0              None      \n",
       "4  About half the time  Occasionally      4.0              None      \n",
       "\n",
       "  most_interesting  most_interesting_grade most_useful  most_useful_grade  \\\n",
       "0  CLAS 104        NaN                      SYDE 348   NaN                  \n",
       "1  SYDE 348         87.0                    SYDE 348    87.0                \n",
       "2  MSCI 436         90.0                    MSCI 436    90.0                \n",
       "3  SYDE 372        NaN                      SYDE 372   NaN                  \n",
       "4  SPCOM 223        80.0                    SYDE 162    85.0                \n",
       "\n",
       "      worst  worst_grade  \n",
       "0  SYDE 292 NaN           \n",
       "1  SYDE 292  50.0         \n",
       "2  SYDE 383  55.0         \n",
       "3  SYDE 283 NaN           \n",
       "4  SYDE 283  33.0         "
      ]
     },
     "execution_count": 135,
     "metadata": {},
     "output_type": "execute_result"
    }
   ],
   "source": [
    "data.head()"
   ]
  },
  {
   "cell_type": "code",
   "execution_count": 15,
   "metadata": {},
   "outputs": [
    {
     "name": "stdout",
     "output_type": "stream",
     "text": [
      "1997    51\n",
      "1996    7 \n",
      "1998    2 \n",
      "1995    2 \n",
      "1994    1 \n",
      "1987    1 \n",
      "Name: birth, dtype: int64\n",
      "64\n"
     ]
    }
   ],
   "source": [
    "print(data['birth'].value_counts())\n",
    "print(sum(data['birth'].value_counts()))"
   ]
  },
  {
   "cell_type": "code",
   "execution_count": 237,
   "metadata": {},
   "outputs": [
    {
     "data": {
      "text/html": [
       "<div>\n",
       "<style scoped>\n",
       "    .dataframe tbody tr th:only-of-type {\n",
       "        vertical-align: middle;\n",
       "    }\n",
       "\n",
       "    .dataframe tbody tr th {\n",
       "        vertical-align: top;\n",
       "    }\n",
       "\n",
       "    .dataframe thead th {\n",
       "        text-align: right;\n",
       "    }\n",
       "</style>\n",
       "<table border=\"1\" class=\"dataframe\">\n",
       "  <thead>\n",
       "    <tr style=\"text-align: right;\">\n",
       "      <th></th>\n",
       "      <th>Response</th>\n",
       "      <th>Value</th>\n",
       "      <th>Label</th>\n",
       "    </tr>\n",
       "  </thead>\n",
       "  <tbody>\n",
       "    <tr>\n",
       "      <th>0</th>\n",
       "      <td>1997</td>\n",
       "      <td>51</td>\n",
       "      <td>birth</td>\n",
       "    </tr>\n",
       "    <tr>\n",
       "      <th>1</th>\n",
       "      <td>1996</td>\n",
       "      <td>7</td>\n",
       "      <td>birth</td>\n",
       "    </tr>\n",
       "    <tr>\n",
       "      <th>2</th>\n",
       "      <td>1998</td>\n",
       "      <td>2</td>\n",
       "      <td>birth</td>\n",
       "    </tr>\n",
       "    <tr>\n",
       "      <th>3</th>\n",
       "      <td>1995</td>\n",
       "      <td>2</td>\n",
       "      <td>birth</td>\n",
       "    </tr>\n",
       "    <tr>\n",
       "      <th>4</th>\n",
       "      <td>1994</td>\n",
       "      <td>1</td>\n",
       "      <td>birth</td>\n",
       "    </tr>\n",
       "    <tr>\n",
       "      <th>5</th>\n",
       "      <td>1987</td>\n",
       "      <td>1</td>\n",
       "      <td>birth</td>\n",
       "    </tr>\n",
       "  </tbody>\n",
       "</table>\n",
       "</div>"
      ],
      "text/plain": [
       "   Response  Value  Label\n",
       "0  1997      51     birth\n",
       "1  1996      7      birth\n",
       "2  1998      2      birth\n",
       "3  1995      2      birth\n",
       "4  1994      1      birth\n",
       "5  1987      1      birth"
      ]
     },
     "execution_count": 237,
     "metadata": {},
     "output_type": "execute_result"
    }
   ],
   "source": [
    "df = data.birth.value_counts().reset_index(name=\"Value\")\n",
    "df.rename(columns={'index': 'Response'},inplace=True)\n",
    "df['Label'] = pd.Series(['birth' for i in range(len(df))])\n",
    "df"
   ]
  },
  {
   "cell_type": "code",
   "execution_count": 270,
   "metadata": {},
   "outputs": [],
   "source": [
    "pivot_df = df.pivot(index='Label', columns='Response', values='Value')\n",
    "# pivot_df = pivot_df.loc[:,data['birth'].value_counts().index]\n",
    "pivot_df = pivot_df[pivot_df.columns[pivot_df.loc[pivot_df.last_valid_index()].argsort()[::-1]]]\n",
    "# pivot_df.reindex(sorted(pivot_df.index().argsort()), axis=1)"
   ]
  },
  {
   "cell_type": "code",
   "execution_count": 271,
   "metadata": {},
   "outputs": [],
   "source": [
    "stacked = pivot_df"
   ]
  },
  {
   "cell_type": "code",
   "execution_count": 266,
   "metadata": {},
   "outputs": [
    {
     "data": {
      "text/plain": [
       "Response\n",
       "1987    0\n",
       "1994    1\n",
       "1995    2\n",
       "1996    5\n",
       "1997    3\n",
       "1998    4\n",
       "Name: birth, dtype: int64"
      ]
     },
     "execution_count": 266,
     "metadata": {},
     "output_type": "execute_result"
    }
   ],
   "source": [
    "pivot_df.loc[pivot_df.last_valid_index()].argsort()"
   ]
  },
  {
   "cell_type": "code",
   "execution_count": 324,
   "metadata": {},
   "outputs": [
    {
     "data": {
      "text/plain": [
       "<matplotlib.axes._subplots.AxesSubplot at 0x11be44748>"
      ]
     },
     "execution_count": 324,
     "metadata": {},
     "output_type": "execute_result"
    },
    {
     "data": {
      "image/png": "[encoded data removed]",
      "text/plain": [
       "<Figure size 720x504 with 1 Axes>"
      ]
     },
     "metadata": {
      "needs_background": "light"
     },
     "output_type": "display_data"
    }
   ],
   "source": [
    "test[::-1].plot.barh(stacked=True, figsize=(10,7),legend=None)"
   ]
  },
  {
   "cell_type": "code",
   "execution_count": 325,
   "metadata": {},
   "outputs": [
    {
     "ename": "TypeError",
     "evalue": "barh() missing 1 required positional argument: 'width'",
     "output_type": "error",
     "traceback": [
      "\u001b[0;31m---------------------------------------------------------------------------\u001b[0m",
      "\u001b[0;31mTypeError\u001b[0m                                 Traceback (most recent call last)",
      "\u001b[0;32m<ipython-input-325-fd3f6a43851a>\u001b[0m in \u001b[0;36m<module>\u001b[0;34m\u001b[0m\n\u001b[0;32m----> 1\u001b[0;31m \u001b[0mplt\u001b[0m\u001b[0;34m.\u001b[0m\u001b[0mbarh\u001b[0m\u001b[0;34m(\u001b[0m\u001b[0mtest\u001b[0m\u001b[0;34m[\u001b[0m\u001b[0;34m:\u001b[0m\u001b[0;34m:\u001b[0m\u001b[0;34m-\u001b[0m\u001b[0;36m1\u001b[0m\u001b[0;34m]\u001b[0m\u001b[0;34m,\u001b[0m\u001b[0mstacked\u001b[0m\u001b[0;34m=\u001b[0m\u001b[0;32mTrue\u001b[0m\u001b[0;34m,\u001b[0m \u001b[0mfigsize\u001b[0m\u001b[0;34m=\u001b[0m\u001b[0;34m(\u001b[0m\u001b[0;36m10\u001b[0m\u001b[0;34m,\u001b[0m\u001b[0;36m7\u001b[0m\u001b[0;34m)\u001b[0m\u001b[0;34m,\u001b[0m\u001b[0mlegend\u001b[0m\u001b[0;34m=\u001b[0m\u001b[0;32mNone\u001b[0m\u001b[0;34m)\u001b[0m\u001b[0;34m\u001b[0m\u001b[0;34m\u001b[0m\u001b[0m\n\u001b[0m",
      "\u001b[0;31mTypeError\u001b[0m: barh() missing 1 required positional argument: 'width'"
     ]
    }
   ],
   "source": [
    "\n",
    "p1 = plt.barh('Birth', menMeans, 0.35)\n",
    "p2 = plt.barh('Birth', womenMeans, 0.35, bottom=menMeans)"
   ]
  },
  {
   "cell_type": "code",
   "execution_count": 16,
   "metadata": {},
   "outputs": [
    {
     "name": "stdout",
     "output_type": "stream",
     "text": [
      "Male                 39\n",
      "Female               24\n",
      "Prefer not to say    1 \n",
      "Name: gender, dtype: int64\n",
      "64\n"
     ]
    }
   ],
   "source": [
    "print(data['gender'].value_counts())\n",
    "print(sum(data['gender'].value_counts()))"
   ]
  },
  {
   "cell_type": "code",
   "execution_count": 272,
   "metadata": {},
   "outputs": [
    {
     "data": {
      "text/html": [
       "<div>\n",
       "<style scoped>\n",
       "    .dataframe tbody tr th:only-of-type {\n",
       "        vertical-align: middle;\n",
       "    }\n",
       "\n",
       "    .dataframe tbody tr th {\n",
       "        vertical-align: top;\n",
       "    }\n",
       "\n",
       "    .dataframe thead th {\n",
       "        text-align: right;\n",
       "    }\n",
       "</style>\n",
       "<table border=\"1\" class=\"dataframe\">\n",
       "  <thead>\n",
       "    <tr style=\"text-align: right;\">\n",
       "      <th></th>\n",
       "      <th>Response</th>\n",
       "      <th>Value</th>\n",
       "      <th>Label</th>\n",
       "    </tr>\n",
       "  </thead>\n",
       "  <tbody>\n",
       "    <tr>\n",
       "      <th>0</th>\n",
       "      <td>Male</td>\n",
       "      <td>39</td>\n",
       "      <td>gender</td>\n",
       "    </tr>\n",
       "    <tr>\n",
       "      <th>1</th>\n",
       "      <td>Female</td>\n",
       "      <td>24</td>\n",
       "      <td>gender</td>\n",
       "    </tr>\n",
       "    <tr>\n",
       "      <th>2</th>\n",
       "      <td>Prefer not to say</td>\n",
       "      <td>1</td>\n",
       "      <td>gender</td>\n",
       "    </tr>\n",
       "  </tbody>\n",
       "</table>\n",
       "</div>"
      ],
      "text/plain": [
       "            Response  Value   Label\n",
       "0  Male               39     gender\n",
       "1  Female             24     gender\n",
       "2  Prefer not to say  1      gender"
      ]
     },
     "execution_count": 272,
     "metadata": {},
     "output_type": "execute_result"
    }
   ],
   "source": [
    "df = data.gender.value_counts().reset_index(name=\"Value\")\n",
    "df.rename(columns={'index': 'Response'},inplace=True)\n",
    "df['Label'] = pd.Series(['gender' for i in range(len(df))])\n",
    "df"
   ]
  },
  {
   "cell_type": "code",
   "execution_count": 273,
   "metadata": {},
   "outputs": [],
   "source": [
    "pivot_df = df.pivot(index='Label', columns='Response', values='Value')\n",
    "pivot_df = pivot_df[pivot_df.columns[pivot_df.loc[pivot_df.last_valid_index()].argsort()[::-1]]]"
   ]
  },
  {
   "cell_type": "code",
   "execution_count": 308,
   "metadata": {},
   "outputs": [
    {
     "data": {
      "text/plain": [
       "['Male', 'Female', 'Prefer not to say']"
      ]
     },
     "execution_count": 308,
     "metadata": {},
     "output_type": "execute_result"
    }
   ],
   "source": [
    "sequence = [str(i) for i in stacked.columns.to_list()]\n",
    "sequence.extend(pivot_df.columns.to_list())\n",
    "# pivot_df.columns.to_list()\n",
    "# sequence\n",
    "pivot_df.columns.to_list()"
   ]
  },
  {
   "cell_type": "code",
   "execution_count": 309,
   "metadata": {},
   "outputs": [
    {
     "data": {
      "text/plain": [
       "[1997, 1996, 1998, 1995, 1994, 1987, 'Male', 'Female', 'Prefer not to say']"
      ]
     },
     "execution_count": 309,
     "metadata": {},
     "output_type": "execute_result"
    }
   ],
   "source": [
    "stacked.columns.to_list() + pivot_df.columns.to_list()"
   ]
  },
  {
   "cell_type": "code",
   "execution_count": 318,
   "metadata": {},
   "outputs": [],
   "source": [
    "test = pd.concat([stacked,pivot_df])\n",
    "test = test.reindex(columns=stacked.columns.to_list() + pivot_df.columns.to_list())"
   ]
  },
  {
   "cell_type": "code",
   "execution_count": 17,
   "metadata": {},
   "outputs": [
    {
     "name": "stdout",
     "output_type": "stream",
     "text": [
      "Heterosexual         51\n",
      "Bisexual             6 \n",
      "Homosexual           5 \n",
      "Prefer not to say    1 \n",
      "Asexual              1 \n",
      "Name: sexuality, dtype: int64\n",
      "64\n"
     ]
    }
   ],
   "source": [
    "print(data['sexuality'].value_counts())\n",
    "print(sum(data['sexuality'].value_counts()))"
   ]
  },
  {
   "cell_type": "code",
   "execution_count": 18,
   "metadata": {},
   "outputs": [
    {
     "name": "stdout",
     "output_type": "stream",
     "text": [
      "Cauasian           24\n",
      "East Asian         21\n",
      "South Asian        9 \n",
      "Southeast Asian    7 \n",
      "Mixed              2 \n",
      "Middle Eastern     1 \n",
      "Name: ethnicity, dtype: int64\n",
      "64\n"
     ]
    }
   ],
   "source": [
    "print(data['ethnicity'].value_counts())\n",
    "print(sum(data['ethnicity'].value_counts()))"
   ]
  },
  {
   "cell_type": "code",
   "execution_count": 19,
   "metadata": {},
   "outputs": [
    {
     "name": "stdout",
     "output_type": "stream",
     "text": [
      "GTA              34\n",
      "Other Ontario    10\n",
      "KW               9 \n",
      "International    7 \n",
      "Other Canada     4 \n",
      "Name: childhood, dtype: int64\n",
      "64\n"
     ]
    }
   ],
   "source": [
    "print(data['childhood'].value_counts())\n",
    "print(sum(data['childhood'].value_counts()))"
   ]
  },
  {
   "cell_type": "code",
   "execution_count": 29,
   "metadata": {},
   "outputs": [
    {
     "name": "stdout",
     "output_type": "stream",
     "text": [
      "Agnostic                       17\n",
      "Christian                      13\n",
      "Atheist                        11\n",
      "Catholic                       8 \n",
      "Hindu                          6 \n",
      "Sikh                           2 \n",
      "None                           2 \n",
      "Spiritual but Non-religious    2 \n",
      "Muslim                         2 \n",
      "Buddist                        1 \n",
      "Name: religion, dtype: int64\n",
      "64\n"
     ]
    }
   ],
   "source": [
    "print(data['religion'].value_counts())\n",
    "print(sum(data['religion'].value_counts()))"
   ]
  },
  {
   "cell_type": "code",
   "execution_count": 30,
   "metadata": {},
   "outputs": [
    {
     "name": "stdout",
     "output_type": "stream",
     "text": [
      "2    35\n",
      "3    22\n",
      "1    5 \n",
      "4    2 \n",
      "Name: politics, dtype: int64\n",
      "64\n"
     ]
    }
   ],
   "source": [
    "print(data['politics'].value_counts())\n",
    "print(sum(data['politics'].value_counts()))"
   ]
  },
  {
   "cell_type": "code",
   "execution_count": 52,
   "metadata": {},
   "outputs": [
    {
     "data": {
      "image/png": "[encoded data removed]",
      "text/plain": [
       "<Figure size 432x288 with 1 Axes>"
      ]
     },
     "metadata": {
      "needs_background": "light"
     },
     "output_type": "display_data"
    }
   ],
   "source": [
    "politics = plt.bar([1,2,3,4,5],\n",
    "                   data['politics'].value_counts().append(pd.Series([0], index=[5])).sort_index())"
   ]
  },
  {
   "cell_type": "code",
   "execution_count": 57,
   "metadata": {},
   "outputs": [
    {
     "name": "stdout",
     "output_type": "stream",
     "text": [
      "Bachelors           33\n",
      "Masters             23\n",
      "Doctorate           4 \n",
      "Technical Degree    2 \n",
      "None                1 \n",
      "High School         1 \n",
      "Name: parent_edu, dtype: int64\n",
      "64\n"
     ]
    }
   ],
   "source": [
    "print(data['parent_edu'].value_counts())\n",
    "print(sum(data['parent_edu'].value_counts()))"
   ]
  },
  {
   "cell_type": "code",
   "execution_count": 58,
   "metadata": {},
   "outputs": [
    {
     "name": "stdout",
     "output_type": "stream",
     "text": [
      "No     35\n",
      "Yes    29\n",
      "Name: parent_north_amer, dtype: int64\n",
      "64\n"
     ]
    }
   ],
   "source": [
    "print(data['parent_north_amer'].value_counts())\n",
    "print(sum(data['parent_north_amer'].value_counts()))"
   ]
  },
  {
   "cell_type": "code",
   "execution_count": 84,
   "metadata": {},
   "outputs": [
    {
     "name": "stdout",
     "output_type": "stream",
     "text": [
      "$0 - 50k       6 \n",
      "$50 - 100k     8 \n",
      "$100 - 150k    14\n",
      "$150 - 200k    18\n",
      "$200 - 250k    7 \n",
      "$250 - 300k    3 \n",
      "$300k +        5 \n",
      "None           3 \n",
      "Name: household_inc, dtype: int64\n",
      "64\n"
     ]
    }
   ],
   "source": [
    "household_inc = data['household_inc'].value_counts().sort_index()\n",
    "household_inc = household_inc.iloc[[0]].append(household_inc.iloc[[6]]).append(household_inc.iloc[[1,2,3,4,5,7]])\n",
    "print(household_inc)\n",
    "print(sum(household_inc))"
   ]
  },
  {
   "cell_type": "code",
   "execution_count": 85,
   "metadata": {},
   "outputs": [
    {
     "name": "stdout",
     "output_type": "stream",
     "text": [
      "Yes, engineering            26\n",
      "No                          21\n",
      "Yes, but not engineering    17\n",
      "Name: parent_stem, dtype: int64\n",
      "64\n"
     ]
    }
   ],
   "source": [
    "print(data['parent_stem'].value_counts())\n",
    "print(sum(data['parent_stem'].value_counts()))"
   ]
  },
  {
   "cell_type": "code",
   "execution_count": 87,
   "metadata": {},
   "outputs": [
    {
     "name": "stdout",
     "output_type": "stream",
     "text": [
      "0 - 25%      21\n",
      "25 - 50%     17\n",
      "50 - 75%     11\n",
      "75 - 100%    15\n",
      "Name: family_funded, dtype: int64\n",
      "64\n"
     ]
    }
   ],
   "source": [
    "print(data['family_funded'].value_counts().sort_index())\n",
    "print(sum(data['family_funded'].value_counts()))"
   ]
  },
  {
   "cell_type": "code",
   "execution_count": 88,
   "metadata": {},
   "outputs": [
    {
     "name": "stdout",
     "output_type": "stream",
     "text": [
      "85.0    1 \n",
      "86.0    2 \n",
      "87.0    5 \n",
      "88.0    3 \n",
      "89.0    5 \n",
      "90.0    4 \n",
      "90.5    1 \n",
      "91.0    1 \n",
      "92.0    5 \n",
      "93.0    11\n",
      "93.5    1 \n",
      "94.0    8 \n",
      "94.5    1 \n",
      "94.6    1 \n",
      "95.0    8 \n",
      "96.0    3 \n",
      "97.0    3 \n",
      "Name: hs_avg, dtype: int64\n",
      "63\n"
     ]
    }
   ],
   "source": [
    "print(data['hs_avg'].value_counts().sort_index())\n",
    "print(sum(data['hs_avg'].value_counts()))"
   ]
  },
  {
   "cell_type": "code",
   "execution_count": 114,
   "metadata": {},
   "outputs": [
    {
     "data": {
      "image/png": "[encoded data removed]",
      "text/plain": [
       "<Figure size 432x288 with 1 Axes>"
      ]
     },
     "metadata": {
      "needs_background": "light"
     },
     "output_type": "display_data"
    }
   ],
   "source": [
    "hs_avg_hist = plt.hist(data.hs_avg,bins=12)"
   ]
  },
  {
   "cell_type": "code",
   "execution_count": 115,
   "metadata": {},
   "outputs": [
    {
     "data": {
      "image/png": "[encoded data removed]",
      "text/plain": [
       "<Figure size 432x288 with 1 Axes>"
      ]
     },
     "metadata": {
      "needs_background": "light"
     },
     "output_type": "display_data"
    }
   ],
   "source": [
    "hs_avg_dist = sns.distplot(data.hs_avg,bins=12)"
   ]
  },
  {
   "cell_type": "code",
   "execution_count": 111,
   "metadata": {},
   "outputs": [
    {
     "data": {
      "text/plain": [
       "92.04920634920636"
      ]
     },
     "execution_count": 111,
     "metadata": {},
     "output_type": "execute_result"
    }
   ],
   "source": [
    "data.hs_avg.mean()"
   ]
  },
  {
   "cell_type": "code",
   "execution_count": 171,
   "metadata": {},
   "outputs": [
    {
     "name": "stdout",
     "output_type": "stream",
     "text": [
      "Student club member                44\n",
      "Local volunteering                 35\n",
      "Organized sports                   32\n",
      "Non-engineering related job        29\n",
      "Student club leader                28\n",
      "Music                              25\n",
      "Leadership program                 25\n",
      "Religious activities               9 \n",
      "Theatre                            7 \n",
      "Engineering related job            6 \n",
      "None                               3 \n",
      "Classics conference                1 \n",
      "Dance                              1 \n",
      "Business program                   1 \n",
      "Math & Programming Competitions    1 \n",
      "casual sports                      1 \n",
      "Name: 0, dtype: int64\n"
     ]
    }
   ],
   "source": [
    "hs_extrac = pd.DataFrame(data.hs_extrac)\n",
    "hs_extrac = pd.concat([pd.Series(row['hs_extrac'].split(', ')) for _, row in hs_extrac.iterrows()]).reset_index()[0]\n",
    "print(hs_extrac.value_counts())"
   ]
  },
  {
   "cell_type": "code",
   "execution_count": 170,
   "metadata": {},
   "outputs": [
    {
     "name": "stdout",
     "output_type": "stream",
     "text": [
      "None                                     29\n",
      "AP                                       9 \n",
      "Gifted/enhanced                          7 \n",
      "IB                                       7 \n",
      "Private school                           6 \n",
      "French immersion                         5 \n",
      "Extended French                          3 \n",
      "International Business and Technology    1 \n",
      "Extended French Program                  1 \n",
      "art specialist                           1 \n",
      "ICT SHSM                                 1 \n",
      "Name: 0, dtype: int64\n"
     ]
    }
   ],
   "source": [
    "hs_accel = pd.DataFrame(data.hs_accel)\n",
    "hs_accel = pd.concat([pd.Series(row['hs_accel'].split(', ')) for _, row in hs_accel.iterrows()]).reset_index()[0]\n",
    "print(hs_accel.value_counts())"
   ]
  },
  {
   "cell_type": "code",
   "execution_count": 145,
   "metadata": {},
   "outputs": [
    {
     "name": "stdout",
     "output_type": "stream",
     "text": [
      "Word of mouth            27\n",
      "Website/research         21\n",
      "University open house    9 \n",
      "University fair          3 \n",
      "Family                   2 \n",
      "First Year               1 \n",
      "OUAC Application         1 \n",
      "Name: discovery, dtype: int64\n",
      "64\n"
     ]
    }
   ],
   "source": [
    "print(data['discovery'].value_counts())\n",
    "print(sum(data['discovery'].value_counts()))"
   ]
  },
  {
   "cell_type": "code",
   "execution_count": 169,
   "metadata": {},
   "outputs": [
    {
     "name": "stdout",
     "output_type": "stream",
     "text": [
      "None                      21\n",
      "Math                      16\n",
      "Science                   13\n",
      "Business                  11\n",
      "Computer Science          10\n",
      "Arts                      7 \n",
      "Environment               4 \n",
      "Architecture              3 \n",
      "Concurrent Ed             1 \n",
      "Applied Health Science    1 \n",
      "Name: 0, dtype: int64\n"
     ]
    }
   ],
   "source": [
    "fac_apps = pd.DataFrame(data.fac_apps)\n",
    "fac_apps = pd.concat([pd.Series(row['fac_apps'].split(', ')) for _, row in fac_apps.iterrows()]).reset_index()[0]\n",
    "print(fac_apps.value_counts())"
   ]
  },
  {
   "cell_type": "code",
   "execution_count": 162,
   "metadata": {},
   "outputs": [
    {
     "name": "stdout",
     "output_type": "stream",
     "text": [
      "Healthcare           14\n",
      "Software             9 \n",
      "Finance              8 \n",
      "Arts/Media           6 \n",
      "Manufacturing        4 \n",
      "Academia/Research    4 \n",
      "No idea              2 \n",
      "Hardware             2 \n",
      "Sustainability       1 \n",
      "I didnt know         1 \n",
      "Food                 1 \n",
      "No clue              1 \n",
      "I did not know       1 \n",
      "no idea              1 \n",
      "had no clue!         1 \n",
      "Biology              1 \n",
      "Game Development     1 \n",
      "Civil                1 \n",
      "I didn't know        1 \n",
      "Wasn't sure          1 \n",
      "Name: industry_goal, dtype: int64\n",
      "61\n"
     ]
    }
   ],
   "source": [
    "print(data['industry_goal'].value_counts())\n",
    "print(sum(data['industry_goal'].value_counts()))"
   ]
  },
  {
   "cell_type": "code",
   "execution_count": 172,
   "metadata": {},
   "outputs": [
    {
     "name": "stdout",
     "output_type": "stream",
     "text": [
      "Healthcare           14\n",
      "Unsure               12\n",
      "Software             9 \n",
      "Finance              8 \n",
      "Arts/Media           6 \n",
      "Academia/Research    4 \n",
      "Manufacturing        4 \n",
      "Hardware             2 \n",
      "Biology              1 \n",
      "Civil                1 \n",
      "Game Development     1 \n",
      "Food                 1 \n",
      "Sustainability       1 \n",
      "Name: 0, dtype: int64\n",
      "64\n"
     ]
    }
   ],
   "source": [
    "industry_goal = pd.DataFrame(data.industry_goal).fillna(\n",
    "    'Unsure').replace(\n",
    "    'No idea','Unsure').replace(\n",
    "    'I didnt know', 'Unsure').replace(\n",
    "    'No clue', 'Unsure').replace(\n",
    "    'I did not know', 'Unsure').replace(\n",
    "    'no idea', 'Unsure').replace(\n",
    "    'had no clue! ', 'Unsure').replace(\n",
    "    'I didn\\'t know', 'Unsure').replace(\n",
    "    'Wasn\\'t sure', 'Unsure')\n",
    "industry_goal = pd.concat([pd.Series(row['industry_goal'].split(', ')) for _, row in industry_goal.iterrows()]).reset_index()[0]\n",
    "print(industry_goal.value_counts())\n",
    "print(sum(industry_goal.value_counts()))"
   ]
  },
  {
   "cell_type": "code",
   "execution_count": null,
   "metadata": {},
   "outputs": [],
   "source": []
  }
 ],
 "metadata": {
  "kernelspec": {
   "display_name": "Python 3",
   "language": "python",
   "name": "python3"
  },
  "language_info": {
   "codemirror_mode": {
    "name": "ipython",
    "version": 3
   },
   "file_extension": ".py",
   "mimetype": "text/x-python",
   "name": "python",
   "nbconvert_exporter": "python",
   "pygments_lexer": "ipython3",
   "version": "3.7.1"
  }
 },
 "nbformat": 4,
 "nbformat_minor": 2
}
