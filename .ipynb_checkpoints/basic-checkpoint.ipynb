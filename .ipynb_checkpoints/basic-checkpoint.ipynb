{
 "cells": [
  {
   "cell_type": "code",
   "execution_count": 1,
   "metadata": {},
   "outputs": [],
   "source": [
    "import numpy as np\n",
    "import pandas as pd\n",
    "import seaborn as sns; sns.set()\n",
    "import matplotlib.pyplot as plt"
   ]
  },
  {
   "cell_type": "code",
   "execution_count": 2,
   "metadata": {},
   "outputs": [],
   "source": [
    "pd.set_option('display.max_rows', None)\n",
    "pd.set_option('display.max_columns', None)\n",
    "pd.set_option('display.width', None)\n",
    "pd.set_option('display.max_colwidth', -1)"
   ]
  },
  {
   "cell_type": "code",
   "execution_count": 42,
   "metadata": {},
   "outputs": [],
   "source": [
    "data = pd.read_csv('responses.csv')"
   ]
  },
  {
   "cell_type": "code",
   "execution_count": 4,
   "metadata": {},
   "outputs": [
    {
     "data": {
      "text/html": [
       "<div>\n",
       "<style scoped>\n",
       "    .dataframe tbody tr th:only-of-type {\n",
       "        vertical-align: middle;\n",
       "    }\n",
       "\n",
       "    .dataframe tbody tr th {\n",
       "        vertical-align: top;\n",
       "    }\n",
       "\n",
       "    .dataframe thead th {\n",
       "        text-align: right;\n",
       "    }\n",
       "</style>\n",
       "<table border=\"1\" class=\"dataframe\">\n",
       "  <thead>\n",
       "    <tr style=\"text-align: right;\">\n",
       "      <th></th>\n",
       "      <th>birth</th>\n",
       "      <th>gender</th>\n",
       "      <th>sexuality</th>\n",
       "      <th>ethnicity</th>\n",
       "      <th>childhood</th>\n",
       "      <th>religion</th>\n",
       "      <th>politics</th>\n",
       "      <th>parent_edu</th>\n",
       "      <th>parent_north_amer</th>\n",
       "      <th>household_inc</th>\n",
       "      <th>parent_stem</th>\n",
       "      <th>family_funded</th>\n",
       "      <th>hs_avg</th>\n",
       "      <th>hs_extrac</th>\n",
       "      <th>hs_accel</th>\n",
       "      <th>discovery</th>\n",
       "      <th>fac_apps</th>\n",
       "      <th>industry_goal</th>\n",
       "      <th>job_search_1a</th>\n",
       "      <th>job_search_1b</th>\n",
       "      <th>job_search_2a</th>\n",
       "      <th>job_search_2b</th>\n",
       "      <th>job_search_3a</th>\n",
       "      <th>job_search_3b</th>\n",
       "      <th>industry_1a</th>\n",
       "      <th>industry_1b</th>\n",
       "      <th>industry_2a</th>\n",
       "      <th>industry_2b</th>\n",
       "      <th>industry_3a</th>\n",
       "      <th>industry_3b</th>\n",
       "      <th>city_1a</th>\n",
       "      <th>city_1b</th>\n",
       "      <th>city_2a</th>\n",
       "      <th>city_2b</th>\n",
       "      <th>city_3a</th>\n",
       "      <th>city_3b</th>\n",
       "      <th>salary_1a</th>\n",
       "      <th>currency_1a</th>\n",
       "      <th>salary_1b</th>\n",
       "      <th>currency_1b</th>\n",
       "      <th>salary_2a</th>\n",
       "      <th>currency_2a</th>\n",
       "      <th>salary_2b</th>\n",
       "      <th>currency_2b</th>\n",
       "      <th>salary_3a</th>\n",
       "      <th>currency_3a</th>\n",
       "      <th>salary_3b</th>\n",
       "      <th>currency_3b</th>\n",
       "      <th>negotiate</th>\n",
       "      <th>negotiate_add</th>\n",
       "      <th>uni_fund</th>\n",
       "      <th>company_1a</th>\n",
       "      <th>company_1b</th>\n",
       "      <th>company_2a</th>\n",
       "      <th>company_2b</th>\n",
       "      <th>company_3a</th>\n",
       "      <th>company_3b</th>\n",
       "      <th>avg_1a</th>\n",
       "      <th>avg_1b</th>\n",
       "      <th>avg_2a</th>\n",
       "      <th>avg_2b</th>\n",
       "      <th>avg_3a</th>\n",
       "      <th>avg_3b</th>\n",
       "      <th>avg_4a</th>\n",
       "      <th>avg_4b_estim</th>\n",
       "      <th>avg_4a_cumul</th>\n",
       "      <th>avg_4b_cumul_estim</th>\n",
       "      <th>rent_1a</th>\n",
       "      <th>rent_1b</th>\n",
       "      <th>rent_2a</th>\n",
       "      <th>rent_2b</th>\n",
       "      <th>rent_3a</th>\n",
       "      <th>rent_3b</th>\n",
       "      <th>rent_4a</th>\n",
       "      <th>rent_4b</th>\n",
       "      <th>stress_1a</th>\n",
       "      <th>stress_1b</th>\n",
       "      <th>stress_2a</th>\n",
       "      <th>stress_2b</th>\n",
       "      <th>stress_3a</th>\n",
       "      <th>stress_3b</th>\n",
       "      <th>stress_4a</th>\n",
       "      <th>stress_4b</th>\n",
       "      <th>attendance_1a</th>\n",
       "      <th>attendance_1b</th>\n",
       "      <th>attendance_2a</th>\n",
       "      <th>attendance_2b</th>\n",
       "      <th>attendance_3a</th>\n",
       "      <th>attendance_3b</th>\n",
       "      <th>attendance_4a</th>\n",
       "      <th>attendance_4b</th>\n",
       "      <th>years_to_finish</th>\n",
       "      <th>exchange</th>\n",
       "      <th>most_interesting</th>\n",
       "      <th>most_interesting_grade</th>\n",
       "      <th>most_useful</th>\n",
       "      <th>most_useful_grade</th>\n",
       "      <th>worst</th>\n",
       "      <th>worst_grade</th>\n",
       "    </tr>\n",
       "  </thead>\n",
       "  <tbody>\n",
       "    <tr>\n",
       "      <th>0</th>\n",
       "      <td>1997</td>\n",
       "      <td>Female</td>\n",
       "      <td>Heterosexual</td>\n",
       "      <td>East Asian</td>\n",
       "      <td>KW</td>\n",
       "      <td>None</td>\n",
       "      <td>3</td>\n",
       "      <td>Technical Degree</td>\n",
       "      <td>Yes</td>\n",
       "      <td>$100 - 150k</td>\n",
       "      <td>No</td>\n",
       "      <td>25 - 50%</td>\n",
       "      <td>87.0</td>\n",
       "      <td>Organized sports, Local volunteering, Music, Non-engineering related job</td>\n",
       "      <td>None</td>\n",
       "      <td>University open house</td>\n",
       "      <td>None</td>\n",
       "      <td>Healthcare</td>\n",
       "      <td>Waterloo Works</td>\n",
       "      <td>Waterloo Works</td>\n",
       "      <td>Waterloo Works</td>\n",
       "      <td>Waterloo Works</td>\n",
       "      <td>Networking/ Referral</td>\n",
       "      <td>Waterloo Works</td>\n",
       "      <td>Software</td>\n",
       "      <td>Software</td>\n",
       "      <td>Software</td>\n",
       "      <td>UI/UX Design</td>\n",
       "      <td>Project Management</td>\n",
       "      <td>UI/UX Design</td>\n",
       "      <td>GTA</td>\n",
       "      <td>KW</td>\n",
       "      <td>GTA</td>\n",
       "      <td>KW</td>\n",
       "      <td>GTA</td>\n",
       "      <td>GTA</td>\n",
       "      <td>20.00</td>\n",
       "      <td>cad</td>\n",
       "      <td>17.00</td>\n",
       "      <td>cad</td>\n",
       "      <td>21.0</td>\n",
       "      <td>cad</td>\n",
       "      <td>22.0</td>\n",
       "      <td>cad</td>\n",
       "      <td>20.0</td>\n",
       "      <td>cad</td>\n",
       "      <td>24.0</td>\n",
       "      <td>cad</td>\n",
       "      <td>Yes</td>\n",
       "      <td>4.0</td>\n",
       "      <td>Family, Co-op, Student loans, High school savings, Part-time job</td>\n",
       "      <td>Software</td>\n",
       "      <td>Manufacturing</td>\n",
       "      <td>Software</td>\n",
       "      <td>Finance</td>\n",
       "      <td>Healthcare/ Biotech</td>\n",
       "      <td>Software</td>\n",
       "      <td>62.00</td>\n",
       "      <td>71.00</td>\n",
       "      <td>66.0</td>\n",
       "      <td>66.00</td>\n",
       "      <td>72.0</td>\n",
       "      <td>66.00</td>\n",
       "      <td>73.0</td>\n",
       "      <td>79.0</td>\n",
       "      <td>70.00</td>\n",
       "      <td>70.00</td>\n",
       "      <td>$500 - 600/month</td>\n",
       "      <td>$500 - 600/month</td>\n",
       "      <td>$500 - 600/month</td>\n",
       "      <td>&lt; $500/ month</td>\n",
       "      <td>&lt; $500/ month</td>\n",
       "      <td>$700 - 800/month</td>\n",
       "      <td>Lived at home</td>\n",
       "      <td>Lived at home</td>\n",
       "      <td>9.0</td>\n",
       "      <td>4.0</td>\n",
       "      <td>9.0</td>\n",
       "      <td>9.0</td>\n",
       "      <td>9.0</td>\n",
       "      <td>6.0</td>\n",
       "      <td>4.0</td>\n",
       "      <td>2.0</td>\n",
       "      <td>Almost always</td>\n",
       "      <td>Almost always</td>\n",
       "      <td>Almost always</td>\n",
       "      <td>Almost always</td>\n",
       "      <td>Most of the time</td>\n",
       "      <td>Most of the time</td>\n",
       "      <td>About half the time</td>\n",
       "      <td>Occasionally</td>\n",
       "      <td>5.0</td>\n",
       "      <td>None</td>\n",
       "      <td>CLAS 104</td>\n",
       "      <td>NaN</td>\n",
       "      <td>SYDE 348</td>\n",
       "      <td>NaN</td>\n",
       "      <td>SYDE 292</td>\n",
       "      <td>NaN</td>\n",
       "    </tr>\n",
       "    <tr>\n",
       "      <th>1</th>\n",
       "      <td>1997</td>\n",
       "      <td>Female</td>\n",
       "      <td>Heterosexual</td>\n",
       "      <td>Southeast Asian</td>\n",
       "      <td>KW</td>\n",
       "      <td>Agnostic</td>\n",
       "      <td>1</td>\n",
       "      <td>Masters</td>\n",
       "      <td>No</td>\n",
       "      <td>$50 - 100k</td>\n",
       "      <td>Yes, engineering</td>\n",
       "      <td>0 - 25%</td>\n",
       "      <td>89.0</td>\n",
       "      <td>Student club member, Theatre, Engineering related job</td>\n",
       "      <td>None</td>\n",
       "      <td>Family</td>\n",
       "      <td>Arts</td>\n",
       "      <td>No idea</td>\n",
       "      <td>Networking/ Referral</td>\n",
       "      <td>Networking/ Referral</td>\n",
       "      <td>Networking/ Referral</td>\n",
       "      <td>Networking/ Referral</td>\n",
       "      <td>Waterloo Works</td>\n",
       "      <td>Networking/ Referral</td>\n",
       "      <td>UI/UX Design</td>\n",
       "      <td>UI/UX Design</td>\n",
       "      <td>UI/UX Design</td>\n",
       "      <td>UI/UX Design</td>\n",
       "      <td>UI/UX Design</td>\n",
       "      <td>UI/UX Design</td>\n",
       "      <td>KW</td>\n",
       "      <td>Other Canada</td>\n",
       "      <td>Other Canada</td>\n",
       "      <td>KW</td>\n",
       "      <td>Cali</td>\n",
       "      <td>KW</td>\n",
       "      <td>19.00</td>\n",
       "      <td>cad</td>\n",
       "      <td>35.00</td>\n",
       "      <td>cad</td>\n",
       "      <td>35.0</td>\n",
       "      <td>cad</td>\n",
       "      <td>18.0</td>\n",
       "      <td>cad</td>\n",
       "      <td>NaN</td>\n",
       "      <td>NaN</td>\n",
       "      <td>25.0</td>\n",
       "      <td>cad</td>\n",
       "      <td>Yes</td>\n",
       "      <td>10.0</td>\n",
       "      <td>Co-op, RESP</td>\n",
       "      <td>Software</td>\n",
       "      <td>Healthcare/ Biotech</td>\n",
       "      <td>Healthcare/ Biotech</td>\n",
       "      <td>Consulting</td>\n",
       "      <td>Healthcare/ Biotech</td>\n",
       "      <td>Hardware</td>\n",
       "      <td>69.00</td>\n",
       "      <td>67.00</td>\n",
       "      <td>67.0</td>\n",
       "      <td>62.00</td>\n",
       "      <td>69.0</td>\n",
       "      <td>73.00</td>\n",
       "      <td>75.0</td>\n",
       "      <td>79.0</td>\n",
       "      <td>69.00</td>\n",
       "      <td>70.00</td>\n",
       "      <td>Lived at home</td>\n",
       "      <td>Lived at home</td>\n",
       "      <td>Lived at home</td>\n",
       "      <td>Lived at home</td>\n",
       "      <td>Lived at home</td>\n",
       "      <td>Lived at home</td>\n",
       "      <td>Lived at home</td>\n",
       "      <td>Lived at home</td>\n",
       "      <td>7.0</td>\n",
       "      <td>2.0</td>\n",
       "      <td>9.0</td>\n",
       "      <td>10.0</td>\n",
       "      <td>10.0</td>\n",
       "      <td>8.0</td>\n",
       "      <td>7.0</td>\n",
       "      <td>5.0</td>\n",
       "      <td>Almost always</td>\n",
       "      <td>About half the time</td>\n",
       "      <td>Most of the time</td>\n",
       "      <td>Most of the time</td>\n",
       "      <td>Most of the time</td>\n",
       "      <td>Most of the time</td>\n",
       "      <td>Most of the time</td>\n",
       "      <td>Most of the time</td>\n",
       "      <td>5.0</td>\n",
       "      <td>None</td>\n",
       "      <td>SYDE 348</td>\n",
       "      <td>87.0</td>\n",
       "      <td>SYDE 348</td>\n",
       "      <td>87.0</td>\n",
       "      <td>SYDE 292</td>\n",
       "      <td>50.0</td>\n",
       "    </tr>\n",
       "    <tr>\n",
       "      <th>2</th>\n",
       "      <td>1997</td>\n",
       "      <td>Female</td>\n",
       "      <td>Homosexual</td>\n",
       "      <td>East Asian</td>\n",
       "      <td>GTA</td>\n",
       "      <td>Catholic</td>\n",
       "      <td>3</td>\n",
       "      <td>Bachelors</td>\n",
       "      <td>No</td>\n",
       "      <td>$150 - 200k</td>\n",
       "      <td>Yes, but not engineering</td>\n",
       "      <td>75 - 100%</td>\n",
       "      <td>89.0</td>\n",
       "      <td>Organized sports, Local volunteering, Non-engineering related job</td>\n",
       "      <td>None</td>\n",
       "      <td>Website/research</td>\n",
       "      <td>Computer Science</td>\n",
       "      <td>Finance</td>\n",
       "      <td>Waterloo Works</td>\n",
       "      <td>Previous Employer</td>\n",
       "      <td>Waterloo Works</td>\n",
       "      <td>Waterloo Works</td>\n",
       "      <td>Waterloo Works</td>\n",
       "      <td>Previous Employer</td>\n",
       "      <td>Other</td>\n",
       "      <td>Other</td>\n",
       "      <td>Software</td>\n",
       "      <td>Software</td>\n",
       "      <td>Software</td>\n",
       "      <td>Software</td>\n",
       "      <td>GTA</td>\n",
       "      <td>GTA</td>\n",
       "      <td>GTA</td>\n",
       "      <td>GTA</td>\n",
       "      <td>Cali</td>\n",
       "      <td>Cali</td>\n",
       "      <td>17.50</td>\n",
       "      <td>cad</td>\n",
       "      <td>17.50</td>\n",
       "      <td>cad</td>\n",
       "      <td>22.5</td>\n",
       "      <td>cad</td>\n",
       "      <td>22.5</td>\n",
       "      <td>cad</td>\n",
       "      <td>35.0</td>\n",
       "      <td>usd</td>\n",
       "      <td>35.0</td>\n",
       "      <td>usd</td>\n",
       "      <td>No</td>\n",
       "      <td>NaN</td>\n",
       "      <td>Family</td>\n",
       "      <td>Finance</td>\n",
       "      <td>Finance</td>\n",
       "      <td>Software</td>\n",
       "      <td>Software</td>\n",
       "      <td>Software</td>\n",
       "      <td>Software</td>\n",
       "      <td>72.46</td>\n",
       "      <td>74.42</td>\n",
       "      <td>72.8</td>\n",
       "      <td>77.38</td>\n",
       "      <td>77.0</td>\n",
       "      <td>76.27</td>\n",
       "      <td>75.4</td>\n",
       "      <td>80.0</td>\n",
       "      <td>75.16</td>\n",
       "      <td>77.58</td>\n",
       "      <td>$600 - 700/month</td>\n",
       "      <td>$600 - 700/month</td>\n",
       "      <td>&lt; $500/ month</td>\n",
       "      <td>$600 - 700/month</td>\n",
       "      <td>$600 - 700/month</td>\n",
       "      <td>$600 - 700/month</td>\n",
       "      <td>$600 - 700/month</td>\n",
       "      <td>$600 - 700/month</td>\n",
       "      <td>10.0</td>\n",
       "      <td>6.0</td>\n",
       "      <td>5.0</td>\n",
       "      <td>7.0</td>\n",
       "      <td>5.0</td>\n",
       "      <td>10.0</td>\n",
       "      <td>4.0</td>\n",
       "      <td>4.0</td>\n",
       "      <td>Almost always</td>\n",
       "      <td>Almost always</td>\n",
       "      <td>Almost always</td>\n",
       "      <td>Almost always</td>\n",
       "      <td>Almost always</td>\n",
       "      <td>Almost always</td>\n",
       "      <td>Almost always</td>\n",
       "      <td>Almost always</td>\n",
       "      <td>5.0</td>\n",
       "      <td>None</td>\n",
       "      <td>MSCI 436</td>\n",
       "      <td>90.0</td>\n",
       "      <td>MSCI 436</td>\n",
       "      <td>90.0</td>\n",
       "      <td>SYDE 383</td>\n",
       "      <td>55.0</td>\n",
       "    </tr>\n",
       "    <tr>\n",
       "      <th>3</th>\n",
       "      <td>1995</td>\n",
       "      <td>Female</td>\n",
       "      <td>Heterosexual</td>\n",
       "      <td>Cauasian</td>\n",
       "      <td>International</td>\n",
       "      <td>Muslim</td>\n",
       "      <td>2</td>\n",
       "      <td>Bachelors</td>\n",
       "      <td>No</td>\n",
       "      <td>$0 - 50k</td>\n",
       "      <td>No</td>\n",
       "      <td>0 - 25%</td>\n",
       "      <td>NaN</td>\n",
       "      <td>None</td>\n",
       "      <td>None</td>\n",
       "      <td>Website/research</td>\n",
       "      <td>None</td>\n",
       "      <td>Manufacturing</td>\n",
       "      <td>Waterloo Works</td>\n",
       "      <td>Previous Employer</td>\n",
       "      <td>Waterloo Works</td>\n",
       "      <td>Waterloo Works</td>\n",
       "      <td>Waterloo Works</td>\n",
       "      <td>Previous Employer</td>\n",
       "      <td>Software</td>\n",
       "      <td>Software</td>\n",
       "      <td>Software</td>\n",
       "      <td>Software</td>\n",
       "      <td>Software</td>\n",
       "      <td>Software</td>\n",
       "      <td>GTA</td>\n",
       "      <td>GTA</td>\n",
       "      <td>GTA</td>\n",
       "      <td>KW</td>\n",
       "      <td>KW</td>\n",
       "      <td>KW</td>\n",
       "      <td>18.75</td>\n",
       "      <td>cad</td>\n",
       "      <td>18.75</td>\n",
       "      <td>cad</td>\n",
       "      <td>21.0</td>\n",
       "      <td>cad</td>\n",
       "      <td>30.0</td>\n",
       "      <td>cad</td>\n",
       "      <td>26.0</td>\n",
       "      <td>cad</td>\n",
       "      <td>30.0</td>\n",
       "      <td>cad</td>\n",
       "      <td>No</td>\n",
       "      <td>NaN</td>\n",
       "      <td>Bursaries</td>\n",
       "      <td>Finance</td>\n",
       "      <td>Finance</td>\n",
       "      <td>Academia/ Research</td>\n",
       "      <td>Academia/ Research</td>\n",
       "      <td>Software</td>\n",
       "      <td>Software</td>\n",
       "      <td>73.46</td>\n",
       "      <td>75.67</td>\n",
       "      <td>65.0</td>\n",
       "      <td>69.69</td>\n",
       "      <td>73.0</td>\n",
       "      <td>74.00</td>\n",
       "      <td>75.4</td>\n",
       "      <td>NaN</td>\n",
       "      <td>72.35</td>\n",
       "      <td>NaN</td>\n",
       "      <td>&gt; $800/ month</td>\n",
       "      <td>&gt; $800/ month</td>\n",
       "      <td>$600 - 700/month</td>\n",
       "      <td>$600 - 700/month</td>\n",
       "      <td>$600 - 700/month</td>\n",
       "      <td>$600 - 700/month</td>\n",
       "      <td>$600 - 700/month</td>\n",
       "      <td>$600 - 700/month</td>\n",
       "      <td>6.0</td>\n",
       "      <td>5.0</td>\n",
       "      <td>9.0</td>\n",
       "      <td>9.0</td>\n",
       "      <td>7.0</td>\n",
       "      <td>8.0</td>\n",
       "      <td>7.0</td>\n",
       "      <td>7.0</td>\n",
       "      <td>Most of the time</td>\n",
       "      <td>Most of the time</td>\n",
       "      <td>Most of the time</td>\n",
       "      <td>Most of the time</td>\n",
       "      <td>Most of the time</td>\n",
       "      <td>Most of the time</td>\n",
       "      <td>Most of the time</td>\n",
       "      <td>Most of the time</td>\n",
       "      <td>5.0</td>\n",
       "      <td>None</td>\n",
       "      <td>SYDE 372</td>\n",
       "      <td>NaN</td>\n",
       "      <td>SYDE 372</td>\n",
       "      <td>NaN</td>\n",
       "      <td>SYDE 283</td>\n",
       "      <td>NaN</td>\n",
       "    </tr>\n",
       "    <tr>\n",
       "      <th>4</th>\n",
       "      <td>1997</td>\n",
       "      <td>Male</td>\n",
       "      <td>Heterosexual</td>\n",
       "      <td>East Asian</td>\n",
       "      <td>GTA</td>\n",
       "      <td>Agnostic</td>\n",
       "      <td>2</td>\n",
       "      <td>Masters</td>\n",
       "      <td>No</td>\n",
       "      <td>$100 - 150k</td>\n",
       "      <td>Yes, engineering</td>\n",
       "      <td>25 - 50%</td>\n",
       "      <td>93.0</td>\n",
       "      <td>Organized sports, Local volunteering, Leadership program, Student club leader</td>\n",
       "      <td>None</td>\n",
       "      <td>University fair</td>\n",
       "      <td>None</td>\n",
       "      <td>Healthcare</td>\n",
       "      <td>Waterloo Works</td>\n",
       "      <td>Waterloo Works</td>\n",
       "      <td>Waterloo Works</td>\n",
       "      <td>Waterloo Works</td>\n",
       "      <td>Waterloo Works</td>\n",
       "      <td>Waterloo Works</td>\n",
       "      <td>Other</td>\n",
       "      <td>Other</td>\n",
       "      <td>Software</td>\n",
       "      <td>UI/UX Design</td>\n",
       "      <td>UI/UX Design</td>\n",
       "      <td>UI/UX Design</td>\n",
       "      <td>KW</td>\n",
       "      <td>GTA</td>\n",
       "      <td>GTA</td>\n",
       "      <td>KW</td>\n",
       "      <td>KW</td>\n",
       "      <td>KW</td>\n",
       "      <td>15.00</td>\n",
       "      <td>cad</td>\n",
       "      <td>18.00</td>\n",
       "      <td>cad</td>\n",
       "      <td>21.0</td>\n",
       "      <td>cad</td>\n",
       "      <td>25.0</td>\n",
       "      <td>cad</td>\n",
       "      <td>30.0</td>\n",
       "      <td>cad</td>\n",
       "      <td>25.0</td>\n",
       "      <td>cad</td>\n",
       "      <td>Yes</td>\n",
       "      <td>5.0</td>\n",
       "      <td>Family, Co-op, Student loans</td>\n",
       "      <td>Other</td>\n",
       "      <td>Government/ Non-Profit</td>\n",
       "      <td>Finance</td>\n",
       "      <td>Government/ Non-Profit</td>\n",
       "      <td>Software</td>\n",
       "      <td>Software</td>\n",
       "      <td>73.36</td>\n",
       "      <td>74.25</td>\n",
       "      <td>69.6</td>\n",
       "      <td>70.15</td>\n",
       "      <td>76.6</td>\n",
       "      <td>72.00</td>\n",
       "      <td>84.0</td>\n",
       "      <td>NaN</td>\n",
       "      <td>NaN</td>\n",
       "      <td>NaN</td>\n",
       "      <td>$600 - 700/month</td>\n",
       "      <td>$600 - 700/month</td>\n",
       "      <td>$500 - 600/month</td>\n",
       "      <td>$500 - 600/month</td>\n",
       "      <td>$500 - 600/month</td>\n",
       "      <td>$500 - 600/month</td>\n",
       "      <td>$500 - 600/month</td>\n",
       "      <td>$500 - 600/month</td>\n",
       "      <td>5.0</td>\n",
       "      <td>2.0</td>\n",
       "      <td>5.0</td>\n",
       "      <td>10.0</td>\n",
       "      <td>3.0</td>\n",
       "      <td>5.0</td>\n",
       "      <td>2.0</td>\n",
       "      <td>2.0</td>\n",
       "      <td>Almost always</td>\n",
       "      <td>Almost always</td>\n",
       "      <td>Almost always</td>\n",
       "      <td>Almost always</td>\n",
       "      <td>Almost always</td>\n",
       "      <td>Most of the time</td>\n",
       "      <td>About half the time</td>\n",
       "      <td>Occasionally</td>\n",
       "      <td>4.0</td>\n",
       "      <td>None</td>\n",
       "      <td>SPCOM 223</td>\n",
       "      <td>80.0</td>\n",
       "      <td>SYDE 162</td>\n",
       "      <td>85.0</td>\n",
       "      <td>SYDE 283</td>\n",
       "      <td>33.0</td>\n",
       "    </tr>\n",
       "  </tbody>\n",
       "</table>\n",
       "</div>"
      ],
      "text/plain": [
       "   birth  gender     sexuality        ethnicity      childhood  religion  \\\n",
       "0  1997   Female  Heterosexual  East Asian       KW             None       \n",
       "1  1997   Female  Heterosexual  Southeast Asian  KW             Agnostic   \n",
       "2  1997   Female  Homosexual    East Asian       GTA            Catholic   \n",
       "3  1995   Female  Heterosexual  Cauasian         International  Muslim     \n",
       "4  1997   Male    Heterosexual  East Asian       GTA            Agnostic   \n",
       "\n",
       "   politics        parent_edu parent_north_amer household_inc  \\\n",
       "0  3         Technical Degree  Yes               $100 - 150k    \n",
       "1  1         Masters           No                $50 - 100k     \n",
       "2  3         Bachelors         No                $150 - 200k    \n",
       "3  2         Bachelors         No                $0 - 50k       \n",
       "4  2         Masters           No                $100 - 150k    \n",
       "\n",
       "                parent_stem family_funded  hs_avg  \\\n",
       "0  No                        25 - 50%      87.0     \n",
       "1  Yes, engineering          0 - 25%       89.0     \n",
       "2  Yes, but not engineering  75 - 100%     89.0     \n",
       "3  No                        0 - 25%      NaN       \n",
       "4  Yes, engineering          25 - 50%      93.0     \n",
       "\n",
       "                                                                       hs_extrac  \\\n",
       "0  Organized sports, Local volunteering, Music, Non-engineering related job        \n",
       "1  Student club member, Theatre, Engineering related job                           \n",
       "2  Organized sports, Local volunteering, Non-engineering related job               \n",
       "3  None                                                                            \n",
       "4  Organized sports, Local volunteering, Leadership program, Student club leader   \n",
       "\n",
       "  hs_accel              discovery          fac_apps  industry_goal  \\\n",
       "0  None     University open house  None              Healthcare      \n",
       "1  None     Family                 Arts              No idea         \n",
       "2  None     Website/research       Computer Science  Finance         \n",
       "3  None     Website/research       None              Manufacturing   \n",
       "4  None     University fair        None              Healthcare      \n",
       "\n",
       "          job_search_1a         job_search_1b         job_search_2a  \\\n",
       "0  Waterloo Works        Waterloo Works        Waterloo Works         \n",
       "1  Networking/ Referral  Networking/ Referral  Networking/ Referral   \n",
       "2  Waterloo Works        Previous Employer     Waterloo Works         \n",
       "3  Waterloo Works        Previous Employer     Waterloo Works         \n",
       "4  Waterloo Works        Waterloo Works        Waterloo Works         \n",
       "\n",
       "          job_search_2b         job_search_3a         job_search_3b  \\\n",
       "0  Waterloo Works        Networking/ Referral  Waterloo Works         \n",
       "1  Networking/ Referral  Waterloo Works        Networking/ Referral   \n",
       "2  Waterloo Works        Waterloo Works        Previous Employer      \n",
       "3  Waterloo Works        Waterloo Works        Previous Employer      \n",
       "4  Waterloo Works        Waterloo Works        Waterloo Works         \n",
       "\n",
       "    industry_1a   industry_1b   industry_2a   industry_2b         industry_3a  \\\n",
       "0  Software      Software      Software      UI/UX Design  Project Management   \n",
       "1  UI/UX Design  UI/UX Design  UI/UX Design  UI/UX Design  UI/UX Design         \n",
       "2  Other         Other         Software      Software      Software             \n",
       "3  Software      Software      Software      Software      Software             \n",
       "4  Other         Other         Software      UI/UX Design  UI/UX Design         \n",
       "\n",
       "    industry_3b city_1a       city_1b       city_2a city_2b city_3a city_3b  \\\n",
       "0  UI/UX Design  GTA     KW            GTA           KW      GTA     GTA      \n",
       "1  UI/UX Design  KW      Other Canada  Other Canada  KW      Cali    KW       \n",
       "2  Software      GTA     GTA           GTA           GTA     Cali    Cali     \n",
       "3  Software      GTA     GTA           GTA           KW      KW      KW       \n",
       "4  UI/UX Design  KW      GTA           GTA           KW      KW      KW       \n",
       "\n",
       "   salary_1a currency_1a  salary_1b currency_1b  salary_2a currency_2a  \\\n",
       "0  20.00      cad         17.00      cad         21.0       cad          \n",
       "1  19.00      cad         35.00      cad         35.0       cad          \n",
       "2  17.50      cad         17.50      cad         22.5       cad          \n",
       "3  18.75      cad         18.75      cad         21.0       cad          \n",
       "4  15.00      cad         18.00      cad         21.0       cad          \n",
       "\n",
       "   salary_2b currency_2b  salary_3a currency_3a  salary_3b currency_3b  \\\n",
       "0  22.0       cad         20.0       cad         24.0       cad          \n",
       "1  18.0       cad        NaN         NaN         25.0       cad          \n",
       "2  22.5       cad         35.0       usd         35.0       usd          \n",
       "3  30.0       cad         26.0       cad         30.0       cad          \n",
       "4  25.0       cad         30.0       cad         25.0       cad          \n",
       "\n",
       "  negotiate  negotiate_add  \\\n",
       "0  Yes       4.0             \n",
       "1  Yes       10.0            \n",
       "2  No       NaN              \n",
       "3  No       NaN              \n",
       "4  Yes       5.0             \n",
       "\n",
       "                                                           uni_fund  \\\n",
       "0  Family, Co-op, Student loans, High school savings, Part-time job   \n",
       "1  Co-op, RESP                                                        \n",
       "2  Family                                                             \n",
       "3  Bursaries                                                          \n",
       "4  Family, Co-op, Student loans                                       \n",
       "\n",
       "  company_1a              company_1b           company_2a  \\\n",
       "0  Software   Manufacturing           Software              \n",
       "1  Software   Healthcare/ Biotech     Healthcare/ Biotech   \n",
       "2  Finance    Finance                 Software              \n",
       "3  Finance    Finance                 Academia/ Research    \n",
       "4  Other      Government/ Non-Profit  Finance               \n",
       "\n",
       "               company_2b           company_3a company_3b  avg_1a  avg_1b  \\\n",
       "0  Finance                 Healthcare/ Biotech  Software   62.00   71.00    \n",
       "1  Consulting              Healthcare/ Biotech  Hardware   69.00   67.00    \n",
       "2  Software                Software             Software   72.46   74.42    \n",
       "3  Academia/ Research      Software             Software   73.46   75.67    \n",
       "4  Government/ Non-Profit  Software             Software   73.36   74.25    \n",
       "\n",
       "   avg_2a  avg_2b  avg_3a  avg_3b  avg_4a  avg_4b_estim  avg_4a_cumul  \\\n",
       "0  66.0    66.00   72.0    66.00   73.0    79.0          70.00          \n",
       "1  67.0    62.00   69.0    73.00   75.0    79.0          69.00          \n",
       "2  72.8    77.38   77.0    76.27   75.4    80.0          75.16          \n",
       "3  65.0    69.69   73.0    74.00   75.4   NaN            72.35          \n",
       "4  69.6    70.15   76.6    72.00   84.0   NaN           NaN             \n",
       "\n",
       "   avg_4b_cumul_estim           rent_1a           rent_1b           rent_2a  \\\n",
       "0  70.00               $500 - 600/month  $500 - 600/month  $500 - 600/month   \n",
       "1  70.00               Lived at home     Lived at home     Lived at home      \n",
       "2  77.58               $600 - 700/month  $600 - 700/month  < $500/ month      \n",
       "3 NaN                  > $800/ month     > $800/ month     $600 - 700/month   \n",
       "4 NaN                  $600 - 700/month  $600 - 700/month  $500 - 600/month   \n",
       "\n",
       "            rent_2b           rent_3a           rent_3b           rent_4a  \\\n",
       "0  < $500/ month     < $500/ month     $700 - 800/month  Lived at home      \n",
       "1  Lived at home     Lived at home     Lived at home     Lived at home      \n",
       "2  $600 - 700/month  $600 - 700/month  $600 - 700/month  $600 - 700/month   \n",
       "3  $600 - 700/month  $600 - 700/month  $600 - 700/month  $600 - 700/month   \n",
       "4  $500 - 600/month  $500 - 600/month  $500 - 600/month  $500 - 600/month   \n",
       "\n",
       "            rent_4b  stress_1a  stress_1b  stress_2a  stress_2b  stress_3a  \\\n",
       "0  Lived at home     9.0        4.0        9.0        9.0        9.0         \n",
       "1  Lived at home     7.0        2.0        9.0        10.0       10.0        \n",
       "2  $600 - 700/month  10.0       6.0        5.0        7.0        5.0         \n",
       "3  $600 - 700/month  6.0        5.0        9.0        9.0        7.0         \n",
       "4  $500 - 600/month  5.0        2.0        5.0        10.0       3.0         \n",
       "\n",
       "   stress_3b  stress_4a  stress_4b     attendance_1a        attendance_1b  \\\n",
       "0  6.0        4.0        2.0        Almost always     Almost always         \n",
       "1  8.0        7.0        5.0        Almost always     About half the time   \n",
       "2  10.0       4.0        4.0        Almost always     Almost always         \n",
       "3  8.0        7.0        7.0        Most of the time  Most of the time      \n",
       "4  5.0        2.0        2.0        Almost always     Almost always         \n",
       "\n",
       "      attendance_2a     attendance_2b     attendance_3a     attendance_3b  \\\n",
       "0  Almost always     Almost always     Most of the time  Most of the time   \n",
       "1  Most of the time  Most of the time  Most of the time  Most of the time   \n",
       "2  Almost always     Almost always     Almost always     Almost always      \n",
       "3  Most of the time  Most of the time  Most of the time  Most of the time   \n",
       "4  Almost always     Almost always     Almost always     Most of the time   \n",
       "\n",
       "         attendance_4a     attendance_4b  years_to_finish exchange  \\\n",
       "0  About half the time  Occasionally      5.0              None      \n",
       "1  Most of the time     Most of the time  5.0              None      \n",
       "2  Almost always        Almost always     5.0              None      \n",
       "3  Most of the time     Most of the time  5.0              None      \n",
       "4  About half the time  Occasionally      4.0              None      \n",
       "\n",
       "  most_interesting  most_interesting_grade most_useful  most_useful_grade  \\\n",
       "0  CLAS 104        NaN                      SYDE 348   NaN                  \n",
       "1  SYDE 348         87.0                    SYDE 348    87.0                \n",
       "2  MSCI 436         90.0                    MSCI 436    90.0                \n",
       "3  SYDE 372        NaN                      SYDE 372   NaN                  \n",
       "4  SPCOM 223        80.0                    SYDE 162    85.0                \n",
       "\n",
       "      worst  worst_grade  \n",
       "0  SYDE 292 NaN           \n",
       "1  SYDE 292  50.0         \n",
       "2  SYDE 383  55.0         \n",
       "3  SYDE 283 NaN           \n",
       "4  SYDE 283  33.0         "
      ]
     },
     "execution_count": 4,
     "metadata": {},
     "output_type": "execute_result"
    }
   ],
   "source": [
    "data.head()"
   ]
  },
  {
   "cell_type": "code",
   "execution_count": 5,
   "metadata": {},
   "outputs": [
    {
     "name": "stdout",
     "output_type": "stream",
     "text": [
      "1997    51\n",
      "1996    7 \n",
      "1998    2 \n",
      "1995    2 \n",
      "1994    1 \n",
      "1987    1 \n",
      "Name: birth, dtype: int64\n",
      "64\n"
     ]
    }
   ],
   "source": [
    "print(data['birth'].value_counts())\n",
    "print(sum(data['birth'].value_counts()))"
   ]
  },
  {
   "cell_type": "code",
   "execution_count": 6,
   "metadata": {},
   "outputs": [
    {
     "name": "stdout",
     "output_type": "stream",
     "text": [
      "Male                 39\n",
      "Female               24\n",
      "Prefer not to say    1 \n",
      "Name: gender, dtype: int64\n",
      "64\n"
     ]
    }
   ],
   "source": [
    "print(data['gender'].value_counts())\n",
    "print(sum(data['gender'].value_counts()))"
   ]
  },
  {
   "cell_type": "code",
   "execution_count": 7,
   "metadata": {},
   "outputs": [
    {
     "name": "stdout",
     "output_type": "stream",
     "text": [
      "Heterosexual         51\n",
      "Bisexual             6 \n",
      "Homosexual           5 \n",
      "Prefer not to say    1 \n",
      "Asexual              1 \n",
      "Name: sexuality, dtype: int64\n",
      "64\n"
     ]
    }
   ],
   "source": [
    "print(data['sexuality'].value_counts())\n",
    "print(sum(data['sexuality'].value_counts()))"
   ]
  },
  {
   "cell_type": "code",
   "execution_count": 8,
   "metadata": {},
   "outputs": [
    {
     "name": "stdout",
     "output_type": "stream",
     "text": [
      "Cauasian           24\n",
      "East Asian         21\n",
      "South Asian        9 \n",
      "Southeast Asian    7 \n",
      "Mixed              2 \n",
      "Middle Eastern     1 \n",
      "Name: ethnicity, dtype: int64\n",
      "64\n"
     ]
    }
   ],
   "source": [
    "print(data['ethnicity'].value_counts())\n",
    "print(sum(data['ethnicity'].value_counts()))"
   ]
  },
  {
   "cell_type": "code",
   "execution_count": 9,
   "metadata": {},
   "outputs": [
    {
     "name": "stdout",
     "output_type": "stream",
     "text": [
      "GTA              34\n",
      "Other Ontario    10\n",
      "KW               9 \n",
      "International    7 \n",
      "Other Canada     4 \n",
      "Name: childhood, dtype: int64\n",
      "64\n"
     ]
    }
   ],
   "source": [
    "print(data['childhood'].value_counts())\n",
    "print(sum(data['childhood'].value_counts()))"
   ]
  },
  {
   "cell_type": "code",
   "execution_count": 10,
   "metadata": {},
   "outputs": [
    {
     "name": "stdout",
     "output_type": "stream",
     "text": [
      "Agnostic                       17\n",
      "Christian                      13\n",
      "Atheist                        11\n",
      "Catholic                       8 \n",
      "Hindu                          6 \n",
      "None                           2 \n",
      "Muslim                         2 \n",
      "Spiritual but Non-religious    2 \n",
      "Sikh                           2 \n",
      "Buddist                        1 \n",
      "Name: religion, dtype: int64\n",
      "64\n"
     ]
    }
   ],
   "source": [
    "print(data['religion'].value_counts())\n",
    "print(sum(data['religion'].value_counts()))"
   ]
  },
  {
   "cell_type": "code",
   "execution_count": 11,
   "metadata": {},
   "outputs": [
    {
     "name": "stdout",
     "output_type": "stream",
     "text": [
      "2    35\n",
      "3    22\n",
      "1    5 \n",
      "4    2 \n",
      "Name: politics, dtype: int64\n",
      "64\n"
     ]
    }
   ],
   "source": [
    "print(data['politics'].value_counts())\n",
    "print(sum(data['politics'].value_counts()))"
   ]
  },
  {
   "cell_type": "code",
   "execution_count": 12,
   "metadata": {},
   "outputs": [
    {
     "data": {
      "image/png": "[encoded data removed]",
      "text/plain": [
       "<Figure size 432x288 with 1 Axes>"
      ]
     },
     "metadata": {
      "needs_background": "light"
     },
     "output_type": "display_data"
    }
   ],
   "source": [
    "politics = plt.bar([1,2,3,4,5],\n",
    "                   data['politics'].value_counts().append(pd.Series([0], index=[5])).sort_index())"
   ]
  },
  {
   "cell_type": "code",
   "execution_count": 46,
   "metadata": {},
   "outputs": [
    {
     "name": "stdout",
     "output_type": "stream",
     "text": [
      "Bachelors           33\n",
      "Masters             23\n",
      "Doctorate           4 \n",
      "Technical Degree    2 \n",
      "High School         1 \n",
      "Name: parent_edu, dtype: int64\n",
      "63\n"
     ]
    }
   ],
   "source": [
    "print(data['parent_edu'].value_counts())\n",
    "print(sum(data['parent_edu'].value_counts()))"
   ]
  },
  {
   "cell_type": "code",
   "execution_count": 47,
   "metadata": {},
   "outputs": [
    {
     "name": "stdout",
     "output_type": "stream",
     "text": [
      "No     35\n",
      "Yes    29\n",
      "Name: parent_north_amer, dtype: int64\n",
      "64\n"
     ]
    }
   ],
   "source": [
    "print(data['parent_north_amer'].value_counts())\n",
    "print(sum(data['parent_north_amer'].value_counts()))"
   ]
  },
  {
   "cell_type": "code",
   "execution_count": 44,
   "metadata": {},
   "outputs": [
    {
     "name": "stdout",
     "output_type": "stream",
     "text": [
      "$0 - 50k       6 \n",
      "$50 - 100k     8 \n",
      "$100 - 150k    14\n",
      "$150 - 200k    18\n",
      "$200 - 250k    7 \n",
      "$250 - 300k    3 \n",
      "$300k +        5 \n",
      "Name: household_inc, dtype: int64\n",
      "61\n"
     ]
    }
   ],
   "source": [
    "household_inc = data['household_inc'].value_counts().sort_index()\n",
    "household_inc = household_inc.iloc[[0]].append(household_inc.iloc[[6]]).append(household_inc.iloc[[1,2,3,4,5]])\n",
    "print(household_inc)\n",
    "print(sum(household_inc))"
   ]
  },
  {
   "cell_type": "code",
   "execution_count": 45,
   "metadata": {},
   "outputs": [
    {
     "name": "stdout",
     "output_type": "stream",
     "text": [
      "Yes, engineering            26\n",
      "No                          21\n",
      "Yes, but not engineering    17\n",
      "Name: parent_stem, dtype: int64\n",
      "64\n"
     ]
    }
   ],
   "source": [
    "print(data['parent_stem'].value_counts())\n",
    "print(sum(data['parent_stem'].value_counts()))"
   ]
  },
  {
   "cell_type": "code",
   "execution_count": 17,
   "metadata": {},
   "outputs": [
    {
     "name": "stdout",
     "output_type": "stream",
     "text": [
      "0 - 25%      21\n",
      "25 - 50%     17\n",
      "50 - 75%     11\n",
      "75 - 100%    15\n",
      "Name: family_funded, dtype: int64\n",
      "64\n"
     ]
    }
   ],
   "source": [
    "print(data['family_funded'].value_counts().sort_index())\n",
    "print(sum(data['family_funded'].value_counts()))"
   ]
  },
  {
   "cell_type": "code",
   "execution_count": 18,
   "metadata": {},
   "outputs": [
    {
     "name": "stdout",
     "output_type": "stream",
     "text": [
      "85.0    1 \n",
      "86.0    2 \n",
      "87.0    5 \n",
      "88.0    3 \n",
      "89.0    5 \n",
      "90.0    4 \n",
      "90.5    1 \n",
      "91.0    1 \n",
      "92.0    5 \n",
      "93.0    11\n",
      "93.5    1 \n",
      "94.0    8 \n",
      "94.5    1 \n",
      "94.6    1 \n",
      "95.0    8 \n",
      "96.0    3 \n",
      "97.0    3 \n",
      "Name: hs_avg, dtype: int64\n",
      "63\n"
     ]
    }
   ],
   "source": [
    "print(data['hs_avg'].value_counts().sort_index())\n",
    "print(sum(data['hs_avg'].value_counts()))"
   ]
  },
  {
   "cell_type": "code",
   "execution_count": 19,
   "metadata": {},
   "outputs": [
    {
     "name": "stderr",
     "output_type": "stream",
     "text": [
      "/Library/Frameworks/Python.framework/Versions/3.7/lib/python3.7/site-packages/numpy/lib/histograms.py:824: RuntimeWarning: invalid value encountered in greater_equal\n",
      "  keep = (tmp_a >= first_edge)\n",
      "/Library/Frameworks/Python.framework/Versions/3.7/lib/python3.7/site-packages/numpy/lib/histograms.py:825: RuntimeWarning: invalid value encountered in less_equal\n",
      "  keep &= (tmp_a <= last_edge)\n"
     ]
    },
    {
     "data": {
      "image/png": "[encoded data removed]",
      "text/plain": [
       "<Figure size 432x288 with 1 Axes>"
      ]
     },
     "metadata": {
      "needs_background": "light"
     },
     "output_type": "display_data"
    }
   ],
   "source": [
    "hs_avg_hist = plt.hist(data.hs_avg,bins=12)"
   ]
  },
  {
   "cell_type": "code",
   "execution_count": 20,
   "metadata": {},
   "outputs": [
    {
     "data": {
      "image/png": "[encoded data removed]",
      "text/plain": [
       "<Figure size 432x288 with 1 Axes>"
      ]
     },
     "metadata": {
      "needs_background": "light"
     },
     "output_type": "display_data"
    }
   ],
   "source": [
    "hs_avg_dist = sns.distplot(data.hs_avg,bins=12)"
   ]
  },
  {
   "cell_type": "code",
   "execution_count": 21,
   "metadata": {},
   "outputs": [
    {
     "data": {
      "text/plain": [
       "92.04920634920636"
      ]
     },
     "execution_count": 21,
     "metadata": {},
     "output_type": "execute_result"
    }
   ],
   "source": [
    "data.hs_avg.mean()"
   ]
  },
  {
   "cell_type": "code",
   "execution_count": 22,
   "metadata": {},
   "outputs": [
    {
     "name": "stdout",
     "output_type": "stream",
     "text": [
      "Student club member                44\n",
      "Local volunteering                 35\n",
      "Organized sports                   32\n",
      "Non-engineering related job        29\n",
      "Student club leader                28\n",
      "Leadership program                 25\n",
      "Music                              25\n",
      "Religious activities               9 \n",
      "Theatre                            7 \n",
      "Engineering related job            6 \n",
      "None                               3 \n",
      "Dance                              1 \n",
      "Math & Programming Competitions    1 \n",
      "Classics conference                1 \n",
      "Business program                   1 \n",
      "casual sports                      1 \n",
      "Name: 0, dtype: int64\n"
     ]
    }
   ],
   "source": [
    "hs_extrac = pd.DataFrame(data.hs_extrac)\n",
    "hs_extrac = pd.concat([pd.Series(row['hs_extrac'].split(', ')) for _, row in hs_extrac.iterrows()]).reset_index()[0]\n",
    "print(hs_extrac.value_counts())"
   ]
  },
  {
   "cell_type": "code",
   "execution_count": 23,
   "metadata": {},
   "outputs": [
    {
     "name": "stdout",
     "output_type": "stream",
     "text": [
      "None                                     29\n",
      "AP                                       9 \n",
      "IB                                       7 \n",
      "Gifted/enhanced                          7 \n",
      "Private school                           6 \n",
      "French immersion                         5 \n",
      "Extended French                          3 \n",
      "International Business and Technology    1 \n",
      "art specialist                           1 \n",
      "ICT SHSM                                 1 \n",
      "Extended French Program                  1 \n",
      "Name: 0, dtype: int64\n"
     ]
    }
   ],
   "source": [
    "hs_accel = pd.DataFrame(data.hs_accel)\n",
    "hs_accel = pd.concat([pd.Series(row['hs_accel'].split(', ')) for _, row in hs_accel.iterrows()]).reset_index()[0]\n",
    "print(hs_accel.value_counts())"
   ]
  },
  {
   "cell_type": "code",
   "execution_count": 24,
   "metadata": {},
   "outputs": [
    {
     "name": "stdout",
     "output_type": "stream",
     "text": [
      "Word of mouth            27\n",
      "Website/research         21\n",
      "University open house    9 \n",
      "University fair          3 \n",
      "Family                   2 \n",
      "OUAC Application         1 \n",
      "First Year               1 \n",
      "Name: discovery, dtype: int64\n",
      "64\n"
     ]
    }
   ],
   "source": [
    "print(data['discovery'].value_counts())\n",
    "print(sum(data['discovery'].value_counts()))"
   ]
  },
  {
   "cell_type": "code",
   "execution_count": 49,
   "metadata": {},
   "outputs": [
    {
     "name": "stdout",
     "output_type": "stream",
     "text": [
      "None                      21\n",
      "Math                      16\n",
      "Science                   13\n",
      "Business                  11\n",
      "Computer Science          10\n",
      "Arts                      7 \n",
      "Environment               4 \n",
      "Architecture              3 \n",
      "Applied Health Science    1 \n",
      "Concurrent Ed             1 \n",
      "Name: 0, dtype: int64\n"
     ]
    }
   ],
   "source": [
    "fac_apps = pd.DataFrame(data.fac_apps)\n",
    "fac_apps = pd.concat([pd.Series(row['fac_apps'].split(', ')) for _, row in fac_apps.iterrows()]).reset_index()[0]\n",
    "print(fac_apps.value_counts())"
   ]
  },
  {
   "cell_type": "code",
   "execution_count": 26,
   "metadata": {},
   "outputs": [
    {
     "name": "stdout",
     "output_type": "stream",
     "text": [
      "Healthcare           14\n",
      "Software             9 \n",
      "Finance              8 \n",
      "Arts/Media           6 \n",
      "Manufacturing        4 \n",
      "Academia/Research    4 \n",
      "Hardware             2 \n",
      "No idea              2 \n",
      "Civil                1 \n",
      "Game Development     1 \n",
      "Wasn't sure          1 \n",
      "Food                 1 \n",
      "I didnt know         1 \n",
      "had no clue!         1 \n",
      "Sustainability       1 \n",
      "no idea              1 \n",
      "Biology              1 \n",
      "I did not know       1 \n",
      "No clue              1 \n",
      "I didn't know        1 \n",
      "Name: industry_goal, dtype: int64\n",
      "61\n"
     ]
    }
   ],
   "source": [
    "print(data['industry_goal'].value_counts())\n",
    "print(sum(data['industry_goal'].value_counts()))"
   ]
  },
  {
   "cell_type": "code",
   "execution_count": 27,
   "metadata": {},
   "outputs": [
    {
     "name": "stdout",
     "output_type": "stream",
     "text": [
      "Healthcare           14\n",
      "Unsure               12\n",
      "Software             9 \n",
      "Finance              8 \n",
      "Arts/Media           6 \n",
      "Manufacturing        4 \n",
      "Academia/Research    4 \n",
      "Hardware             2 \n",
      "Sustainability       1 \n",
      "Biology              1 \n",
      "Food                 1 \n",
      "Game Development     1 \n",
      "Civil                1 \n",
      "Name: 0, dtype: int64\n",
      "64\n"
     ]
    }
   ],
   "source": [
    "industry_goal = pd.DataFrame(data.industry_goal).fillna(\n",
    "    'Unsure').replace(\n",
    "    'No idea','Unsure').replace(\n",
    "    'I didnt know', 'Unsure').replace(\n",
    "    'No clue', 'Unsure').replace(\n",
    "    'I did not know', 'Unsure').replace(\n",
    "    'no idea', 'Unsure').replace(\n",
    "    'had no clue! ', 'Unsure').replace(\n",
    "    'I didn\\'t know', 'Unsure').replace(\n",
    "    'Wasn\\'t sure', 'Unsure')\n",
    "industry_goal = pd.concat([pd.Series(row['industry_goal'].split(', ')) for _, row in industry_goal.iterrows()]).reset_index()[0]\n",
    "print(industry_goal.value_counts())\n",
    "print(sum(industry_goal.value_counts()))"
   ]
  },
  {
   "cell_type": "code",
   "execution_count": 30,
   "metadata": {},
   "outputs": [],
   "source": [
    "job_search = pd.DataFrame([\n",
    "    data['job_search_1a'].value_counts(normalize=True),\n",
    "    data['job_search_1b'].value_counts(normalize=True),\n",
    "    data['job_search_2a'].value_counts(normalize=True),\n",
    "    data['job_search_2b'].value_counts(normalize=True),\n",
    "    data['job_search_3a'].value_counts(normalize=True),\n",
    "    data['job_search_3b'].value_counts(normalize=True)\n",
    "],index=['1A','1B','2A','2B','3A','3B'])\n",
    "job_search.fillna(0,inplace=True)"
   ]
  },
  {
   "cell_type": "code",
   "execution_count": 31,
   "metadata": {},
   "outputs": [
    {
     "data": {
      "text/plain": [
       "<matplotlib.legend.Legend at 0x12108e470>"
      ]
     },
     "execution_count": 31,
     "metadata": {},
     "output_type": "execute_result"
    },
    {
     "data": {
      "image/png": "[encoded data removed]",
      "text/plain": [
       "<Figure size 720x504 with 1 Axes>"
      ]
     },
     "metadata": {
      "needs_background": "light"
     },
     "output_type": "display_data"
    }
   ],
   "source": [
    "fig, ax = plt.subplots(figsize=(10,7))\n",
    "job_search[::-1].plot.barh(stacked=True, ax=ax)\n",
    "ax.legend(loc='center left', bbox_to_anchor=(1, 0.5))"
   ]
  },
  {
   "cell_type": "code",
   "execution_count": 32,
   "metadata": {},
   "outputs": [],
   "source": [
    "industry = pd.DataFrame([\n",
    "    data['industry_1a'].value_counts(normalize=True),\n",
    "    data['industry_1b'].value_counts(normalize=True),\n",
    "    data['industry_2a'].value_counts(normalize=True),\n",
    "    data['industry_2b'].value_counts(normalize=True),\n",
    "    data['industry_3a'].value_counts(normalize=True),\n",
    "    data['industry_3b'].value_counts(normalize=True)\n",
    "],index=['1A','1B','2A','2B','3A','3B'])\n",
    "industry.fillna(0,inplace=True)"
   ]
  },
  {
   "cell_type": "code",
   "execution_count": 33,
   "metadata": {},
   "outputs": [
    {
     "data": {
      "text/plain": [
       "<matplotlib.legend.Legend at 0x12114c9e8>"
      ]
     },
     "execution_count": 33,
     "metadata": {},
     "output_type": "execute_result"
    },
    {
     "data": {
      "image/png": "[encoded data removed]",
      "text/plain": [
       "<Figure size 720x504 with 1 Axes>"
      ]
     },
     "metadata": {
      "needs_background": "light"
     },
     "output_type": "display_data"
    }
   ],
   "source": [
    "fig, ax = plt.subplots(figsize=(10,7))\n",
    "industry[::-1].plot.barh(stacked=True, ax=ax)\n",
    "ax.legend(loc='center left', bbox_to_anchor=(1, 0.5))"
   ]
  },
  {
   "cell_type": "code",
   "execution_count": 35,
   "metadata": {},
   "outputs": [],
   "source": [
    "city = pd.DataFrame([\n",
    "    data['city_1a'].value_counts(normalize=True),\n",
    "    data['city_1b'].value_counts(normalize=True),\n",
    "    data['city_2a'].value_counts(normalize=True),\n",
    "    data['city_2b'].value_counts(normalize=True),\n",
    "    data['city_3a'].value_counts(normalize=True),\n",
    "    data['city_3b'].value_counts(normalize=True)\n",
    "],index=['1A','1B','2A','2B','3A','3B'])\n",
    "city.fillna(0,inplace=True)"
   ]
  },
  {
   "cell_type": "code",
   "execution_count": 36,
   "metadata": {},
   "outputs": [
    {
     "data": {
      "text/plain": [
       "<matplotlib.legend.Legend at 0x1217b26d8>"
      ]
     },
     "execution_count": 36,
     "metadata": {},
     "output_type": "execute_result"
    },
    {
     "data": {
      "image/png": "[encoded data removed]",
      "text/plain": [
       "<Figure size 720x504 with 1 Axes>"
      ]
     },
     "metadata": {
      "needs_background": "light"
     },
     "output_type": "display_data"
    }
   ],
   "source": [
    "fig, ax = plt.subplots(figsize=(10,7))\n",
    "city[::-1].plot.barh(stacked=True, ax=ax)\n",
    "ax.legend(loc='center left', bbox_to_anchor=(1, 0.5))"
   ]
  },
  {
   "cell_type": "code",
   "execution_count": 201,
   "metadata": {},
   "outputs": [],
   "source": [
    "salary=data[['salary_1a',\n",
    "             'currency_1a',\n",
    "             'salary_1b',\n",
    "             'currency_1b',\n",
    "             'salary_2a',\n",
    "             'currency_2a',\n",
    "             'salary_2b',\n",
    "             'currency_2b',\n",
    "             'salary_3a',\n",
    "             'currency_3a',\n",
    "             'salary_3b',\n",
    "             'currency_3b']]"
   ]
  },
  {
   "cell_type": "code",
   "execution_count": 202,
   "metadata": {},
   "outputs": [
    {
     "data": {
      "text/html": [
       "<div>\n",
       "<style scoped>\n",
       "    .dataframe tbody tr th:only-of-type {\n",
       "        vertical-align: middle;\n",
       "    }\n",
       "\n",
       "    .dataframe tbody tr th {\n",
       "        vertical-align: top;\n",
       "    }\n",
       "\n",
       "    .dataframe thead th {\n",
       "        text-align: right;\n",
       "    }\n",
       "</style>\n",
       "<table border=\"1\" class=\"dataframe\">\n",
       "  <thead>\n",
       "    <tr style=\"text-align: right;\">\n",
       "      <th></th>\n",
       "      <th>salary_1a</th>\n",
       "      <th>currency_1a</th>\n",
       "      <th>salary_1b</th>\n",
       "      <th>currency_1b</th>\n",
       "      <th>salary_2a</th>\n",
       "      <th>currency_2a</th>\n",
       "      <th>salary_2b</th>\n",
       "      <th>currency_2b</th>\n",
       "      <th>salary_3a</th>\n",
       "      <th>currency_3a</th>\n",
       "      <th>salary_3b</th>\n",
       "      <th>currency_3b</th>\n",
       "    </tr>\n",
       "  </thead>\n",
       "  <tbody>\n",
       "    <tr>\n",
       "      <th>0</th>\n",
       "      <td>20.00</td>\n",
       "      <td>cad</td>\n",
       "      <td>17.00</td>\n",
       "      <td>cad</td>\n",
       "      <td>21.0</td>\n",
       "      <td>cad</td>\n",
       "      <td>22.0</td>\n",
       "      <td>cad</td>\n",
       "      <td>20.0</td>\n",
       "      <td>cad</td>\n",
       "      <td>24.0</td>\n",
       "      <td>cad</td>\n",
       "    </tr>\n",
       "    <tr>\n",
       "      <th>1</th>\n",
       "      <td>19.00</td>\n",
       "      <td>cad</td>\n",
       "      <td>35.00</td>\n",
       "      <td>cad</td>\n",
       "      <td>35.0</td>\n",
       "      <td>cad</td>\n",
       "      <td>18.0</td>\n",
       "      <td>cad</td>\n",
       "      <td>NaN</td>\n",
       "      <td>NaN</td>\n",
       "      <td>25.0</td>\n",
       "      <td>cad</td>\n",
       "    </tr>\n",
       "    <tr>\n",
       "      <th>2</th>\n",
       "      <td>17.50</td>\n",
       "      <td>cad</td>\n",
       "      <td>17.50</td>\n",
       "      <td>cad</td>\n",
       "      <td>22.5</td>\n",
       "      <td>cad</td>\n",
       "      <td>22.5</td>\n",
       "      <td>cad</td>\n",
       "      <td>35.0</td>\n",
       "      <td>usd</td>\n",
       "      <td>35.0</td>\n",
       "      <td>usd</td>\n",
       "    </tr>\n",
       "    <tr>\n",
       "      <th>3</th>\n",
       "      <td>18.75</td>\n",
       "      <td>cad</td>\n",
       "      <td>18.75</td>\n",
       "      <td>cad</td>\n",
       "      <td>21.0</td>\n",
       "      <td>cad</td>\n",
       "      <td>30.0</td>\n",
       "      <td>cad</td>\n",
       "      <td>26.0</td>\n",
       "      <td>cad</td>\n",
       "      <td>30.0</td>\n",
       "      <td>cad</td>\n",
       "    </tr>\n",
       "    <tr>\n",
       "      <th>4</th>\n",
       "      <td>15.00</td>\n",
       "      <td>cad</td>\n",
       "      <td>18.00</td>\n",
       "      <td>cad</td>\n",
       "      <td>21.0</td>\n",
       "      <td>cad</td>\n",
       "      <td>25.0</td>\n",
       "      <td>cad</td>\n",
       "      <td>30.0</td>\n",
       "      <td>cad</td>\n",
       "      <td>25.0</td>\n",
       "      <td>cad</td>\n",
       "    </tr>\n",
       "  </tbody>\n",
       "</table>\n",
       "</div>"
      ],
      "text/plain": [
       "   salary_1a currency_1a  salary_1b currency_1b  salary_2a currency_2a  \\\n",
       "0  20.00      cad         17.00      cad         21.0       cad          \n",
       "1  19.00      cad         35.00      cad         35.0       cad          \n",
       "2  17.50      cad         17.50      cad         22.5       cad          \n",
       "3  18.75      cad         18.75      cad         21.0       cad          \n",
       "4  15.00      cad         18.00      cad         21.0       cad          \n",
       "\n",
       "   salary_2b currency_2b  salary_3a currency_3a  salary_3b currency_3b  \n",
       "0  22.0       cad         20.0       cad         24.0       cad         \n",
       "1  18.0       cad        NaN         NaN         25.0       cad         \n",
       "2  22.5       cad         35.0       usd         35.0       usd         \n",
       "3  30.0       cad         26.0       cad         30.0       cad         \n",
       "4  25.0       cad         30.0       cad         25.0       cad         "
      ]
     },
     "execution_count": 202,
     "metadata": {},
     "output_type": "execute_result"
    }
   ],
   "source": [
    "salary.head()"
   ]
  },
  {
   "cell_type": "code",
   "execution_count": 203,
   "metadata": {},
   "outputs": [
    {
     "data": {
      "text/html": [
       "<div>\n",
       "<style scoped>\n",
       "    .dataframe tbody tr th:only-of-type {\n",
       "        vertical-align: middle;\n",
       "    }\n",
       "\n",
       "    .dataframe tbody tr th {\n",
       "        vertical-align: top;\n",
       "    }\n",
       "\n",
       "    .dataframe thead th {\n",
       "        text-align: right;\n",
       "    }\n",
       "</style>\n",
       "<table border=\"1\" class=\"dataframe\">\n",
       "  <thead>\n",
       "    <tr style=\"text-align: right;\">\n",
       "      <th></th>\n",
       "      <th>0</th>\n",
       "      <th>1</th>\n",
       "      <th>2</th>\n",
       "      <th>3</th>\n",
       "      <th>4</th>\n",
       "      <th>5</th>\n",
       "      <th>6</th>\n",
       "      <th>7</th>\n",
       "      <th>8</th>\n",
       "      <th>9</th>\n",
       "      <th>10</th>\n",
       "      <th>11</th>\n",
       "    </tr>\n",
       "  </thead>\n",
       "  <tbody>\n",
       "    <tr>\n",
       "      <th>0</th>\n",
       "      <td>20</td>\n",
       "      <td>cad</td>\n",
       "      <td>17</td>\n",
       "      <td>cad</td>\n",
       "      <td>21</td>\n",
       "      <td>cad</td>\n",
       "      <td>22</td>\n",
       "      <td>cad</td>\n",
       "      <td>20</td>\n",
       "      <td>cad</td>\n",
       "      <td>24</td>\n",
       "      <td>cad</td>\n",
       "    </tr>\n",
       "    <tr>\n",
       "      <th>1</th>\n",
       "      <td>19</td>\n",
       "      <td>cad</td>\n",
       "      <td>35</td>\n",
       "      <td>cad</td>\n",
       "      <td>35</td>\n",
       "      <td>cad</td>\n",
       "      <td>18</td>\n",
       "      <td>cad</td>\n",
       "      <td>NaN</td>\n",
       "      <td>NaN</td>\n",
       "      <td>25</td>\n",
       "      <td>cad</td>\n",
       "    </tr>\n",
       "    <tr>\n",
       "      <th>2</th>\n",
       "      <td>17.5</td>\n",
       "      <td>cad</td>\n",
       "      <td>17.5</td>\n",
       "      <td>cad</td>\n",
       "      <td>22.5</td>\n",
       "      <td>cad</td>\n",
       "      <td>22.5</td>\n",
       "      <td>cad</td>\n",
       "      <td>35</td>\n",
       "      <td>usd</td>\n",
       "      <td>35</td>\n",
       "      <td>usd</td>\n",
       "    </tr>\n",
       "    <tr>\n",
       "      <th>3</th>\n",
       "      <td>18.75</td>\n",
       "      <td>cad</td>\n",
       "      <td>18.75</td>\n",
       "      <td>cad</td>\n",
       "      <td>21</td>\n",
       "      <td>cad</td>\n",
       "      <td>30</td>\n",
       "      <td>cad</td>\n",
       "      <td>26</td>\n",
       "      <td>cad</td>\n",
       "      <td>30</td>\n",
       "      <td>cad</td>\n",
       "    </tr>\n",
       "    <tr>\n",
       "      <th>4</th>\n",
       "      <td>15</td>\n",
       "      <td>cad</td>\n",
       "      <td>18</td>\n",
       "      <td>cad</td>\n",
       "      <td>21</td>\n",
       "      <td>cad</td>\n",
       "      <td>25</td>\n",
       "      <td>cad</td>\n",
       "      <td>30</td>\n",
       "      <td>cad</td>\n",
       "      <td>25</td>\n",
       "      <td>cad</td>\n",
       "    </tr>\n",
       "  </tbody>\n",
       "</table>\n",
       "</div>"
      ],
      "text/plain": [
       "       0    1      2    3     4    5     6    7    8    9  10   11\n",
       "0  20     cad  17     cad  21    cad  22    cad  20   cad  24  cad\n",
       "1  19     cad  35     cad  35    cad  18    cad  NaN  NaN  25  cad\n",
       "2  17.5   cad  17.5   cad  22.5  cad  22.5  cad  35   usd  35  usd\n",
       "3  18.75  cad  18.75  cad  21    cad  30    cad  26   cad  30  cad\n",
       "4  15     cad  18     cad  21    cad  25    cad  30   cad  25  cad"
      ]
     },
     "execution_count": 203,
     "metadata": {},
     "output_type": "execute_result"
    }
   ],
   "source": [
    "salary = salary.T.reset_index(drop=True).T\n",
    "salary.head()"
   ]
  },
  {
   "cell_type": "code",
   "execution_count": 69,
   "metadata": {},
   "outputs": [],
   "source": [
    "cad, usd = [], []\n",
    "\n",
    "for term in range(6):\n",
    "    cad.append(salary[salary[2*term+1]=='cad'][2*term])\n",
    "    usd.append(salary[salary[2*term+1]=='usd'][2*term])"
   ]
  },
  {
   "cell_type": "code",
   "execution_count": 70,
   "metadata": {},
   "outputs": [],
   "source": [
    "means_cad, n_cad = [], []\n",
    "\n",
    "for term in cad:\n",
    "    n_cad.extend([len(term)])\n",
    "    means_cad.extend([term.mean()])\n",
    "    \n",
    "means_usd, n_usd = [], []\n",
    "\n",
    "for term in usd:\n",
    "    n_usd.extend([len(term)])\n",
    "    means_usd.extend([term.mean()])"
   ]
  },
  {
   "cell_type": "code",
   "execution_count": 89,
   "metadata": {},
   "outputs": [],
   "source": [
    "salary_cad = cad[0].tolist()\n",
    "terms_cad = [1 for i in range(len(cad[0]))]\n",
    "\n",
    "for i in range(5):\n",
    "    salary_cad.extend(cad[i+1].tolist())\n",
    "    terms_cad.extend([i+2 for j in range(len(cad[i+1]))])"
   ]
  },
  {
   "cell_type": "code",
   "execution_count": 90,
   "metadata": {},
   "outputs": [],
   "source": [
    "new_cad = pd.DataFrame(list(zip(terms_cad,salary_cad)), columns=[\"terms\",\"salary\"])"
   ]
  },
  {
   "cell_type": "code",
   "execution_count": 91,
   "metadata": {},
   "outputs": [],
   "source": [
    "salary_usd = usd[0].tolist()\n",
    "terms_usd = [1 for i in range(len(usd[0]))]\n",
    "\n",
    "for i in range(5):\n",
    "    salary_usd.extend(usd[i+1].tolist())\n",
    "    terms_usd.extend([i+2 for j in range(len(usd[i+1]))])"
   ]
  },
  {
   "cell_type": "code",
   "execution_count": 92,
   "metadata": {},
   "outputs": [],
   "source": [
    "new_usd = pd.DataFrame(list(zip(terms_usd,salary_usd)), columns=[\"terms\",\"salary\"])"
   ]
  },
  {
   "cell_type": "code",
   "execution_count": 98,
   "metadata": {},
   "outputs": [
    {
     "data": {
      "text/plain": [
       "(15, 31)"
      ]
     },
     "execution_count": 98,
     "metadata": {},
     "output_type": "execute_result"
    },
    {
     "data": {
      "image/png": "[encoded data removed]",
      "text/plain": [
       "<Figure size 720x504 with 1 Axes>"
      ]
     },
     "metadata": {
      "needs_background": "light"
     },
     "output_type": "display_data"
    }
   ],
   "source": [
    "fig, ax = plt.subplots(figsize=(10,7))\n",
    "\n",
    "sns.lineplot('terms','salary', data=new_cad, ax=ax)\n",
    "x = [1,2,3,4,5,6]\n",
    "\n",
    "ax.scatter(x,means_cad)\n",
    "\n",
    "for i, txt in enumerate(n_cad):\n",
    "    ax.annotate('n='+str(txt), (x[i], means_cad[i]), xytext=(x[i]-0.15,means_cad[i]-1.2))\n",
    "\n",
    "for i, txt in enumerate(['%.2f'% mean for mean in means_cad]):\n",
    "    ax.annotate('$'+str(txt), (x[i], means_cad[i]), xytext=(x[i]-0.3,means_cad[i]+0.6))\n",
    "\n",
    "ax.set_xlim([0,7])\n",
    "ax.set_xticklabels(['','1A','1B','2A','2B','3A','3B',''])\n",
    "ax.set_ylim([15,31])"
   ]
  },
  {
   "cell_type": "code",
   "execution_count": 101,
   "metadata": {},
   "outputs": [
    {
     "data": {
      "text/plain": [
       "(10, 55)"
      ]
     },
     "execution_count": 101,
     "metadata": {},
     "output_type": "execute_result"
    },
    {
     "data": {
      "image/png": "[encoded data removed]",
      "text/plain": [
       "<Figure size 720x504 with 1 Axes>"
      ]
     },
     "metadata": {
      "needs_background": "light"
     },
     "output_type": "display_data"
    }
   ],
   "source": [
    "fig, ax = plt.subplots(figsize=(10,7))\n",
    "\n",
    "ax = sns.lineplot('terms','salary', data=new_usd, ax=ax)\n",
    "\n",
    "ax.scatter(x,means_usd)\n",
    "\n",
    "for i, txt in enumerate(n_usd):\n",
    "    ax.annotate('n='+str(txt), (x[i], means_usd[i]), xytext=(x[i]-0.1,means_usd[i]-3.5))\n",
    "\n",
    "for i, txt in enumerate(['%.2f'% mean for mean in means_usd]):\n",
    "    ax.annotate('$'+str(txt), (x[i], means_usd[i]), xytext=(x[i]-0.4,means_usd[i]+2))\n",
    "    \n",
    "ax.set_xlim([0,7])\n",
    "ax.set_xticklabels(['','1A','1B','2A','2B','3A','3B',''])\n",
    "ax.set_ylim([10,55])"
   ]
  },
  {
   "cell_type": "code",
   "execution_count": 105,
   "metadata": {},
   "outputs": [
    {
     "name": "stdout",
     "output_type": "stream",
     "text": [
      "No     43\n",
      "Yes    21\n",
      "Name: negotiate, dtype: int64\n",
      "64\n"
     ]
    }
   ],
   "source": [
    "print(data['negotiate'].value_counts())\n",
    "print(sum(data['negotiate'].value_counts()))"
   ]
  },
  {
   "cell_type": "code",
   "execution_count": 106,
   "metadata": {},
   "outputs": [
    {
     "name": "stdout",
     "output_type": "stream",
     "text": [
      "3.0     4\n",
      "5.0     3\n",
      "2.0     2\n",
      "4.0     2\n",
      "6.0     1\n",
      "1.5     1\n",
      "10.0    1\n",
      "Name: negotiate_add, dtype: int64\n",
      "14\n"
     ]
    }
   ],
   "source": [
    "print(data['negotiate_add'].value_counts())\n",
    "print(sum(data['negotiate_add'].value_counts()))"
   ]
  },
  {
   "cell_type": "code",
   "execution_count": 113,
   "metadata": {},
   "outputs": [
    {
     "name": "stdout",
     "output_type": "stream",
     "text": [
      "Co-op                  57\n",
      "Family                 52\n",
      "Student loans          33\n",
      "Scholarships           32\n",
      "RESP                   21\n",
      "High school savings    18\n",
      "Bursaries              15\n",
      "Part-time job          10\n",
      "Investments            2 \n",
      "Line of Credit         1 \n",
      "Name: 0, dtype: int64\n"
     ]
    }
   ],
   "source": [
    "uni_fund = pd.DataFrame(data.uni_fund).dropna()\n",
    "uni_fund = pd.concat([pd.Series(row['uni_fund'].split(', ')) for _, row in uni_fund.iterrows()]).reset_index()[0]\n",
    "print(uni_fund.value_counts())"
   ]
  },
  {
   "cell_type": "code",
   "execution_count": 37,
   "metadata": {},
   "outputs": [],
   "source": [
    "company = pd.DataFrame([\n",
    "    data['company_1a'].value_counts(normalize=True),\n",
    "    data['company_1b'].value_counts(normalize=True),\n",
    "    data['company_2a'].value_counts(normalize=True),\n",
    "    data['company_2b'].value_counts(normalize=True),\n",
    "    data['company_3a'].value_counts(normalize=True),\n",
    "    data['company_3b'].value_counts(normalize=True)\n",
    "],index=['1A','1B','2A','2B','3A','3B'])\n",
    "company.fillna(0,inplace=True)"
   ]
  },
  {
   "cell_type": "code",
   "execution_count": 38,
   "metadata": {},
   "outputs": [
    {
     "data": {
      "text/plain": [
       "<matplotlib.legend.Legend at 0x121395cf8>"
      ]
     },
     "execution_count": 38,
     "metadata": {},
     "output_type": "execute_result"
    },
    {
     "data": {
      "image/png": "[encoded data removed]",
      "text/plain": [
       "<Figure size 720x504 with 1 Axes>"
      ]
     },
     "metadata": {
      "needs_background": "light"
     },
     "output_type": "display_data"
    }
   ],
   "source": [
    "fig, ax = plt.subplots(figsize=(10,7))\n",
    "company[::-1].plot.barh(stacked=True, ax=ax)\n",
    "ax.legend(loc='center left', bbox_to_anchor=(1, 0.5))"
   ]
  },
  {
   "cell_type": "code",
   "execution_count": 152,
   "metadata": {},
   "outputs": [
    {
     "data": {
      "text/plain": [
       "<matplotlib.legend.Legend at 0x11bfb6e80>"
      ]
     },
     "execution_count": 152,
     "metadata": {},
     "output_type": "execute_result"
    },
    {
     "data": {
      "image/png": "[encoded data removed]",
      "text/plain": [
       "<Figure size 720x504 with 1 Axes>"
      ]
     },
     "metadata": {
      "needs_background": "light"
     },
     "output_type": "display_data"
    }
   ],
   "source": [
    "fig, ax = plt.subplots(figsize=(10,7))\n",
    "sns.distplot( data.avg_1a, hist=False, kde_kws={\"shade\": True}, label=\"1A\", ax=ax)\n",
    "sns.distplot( data.avg_1b, hist=False, kde_kws={\"shade\": True}, label=\"1B\", ax=ax)\n",
    "sns.distplot( data.avg_2a, hist=False, kde_kws={\"shade\": True}, label=\"2A\", ax=ax)\n",
    "sns.distplot( data.avg_2b, hist=False, kde_kws={\"shade\": True}, label=\"2B\", ax=ax)\n",
    "sns.distplot( data.avg_3a, hist=False, kde_kws={\"shade\": True}, label=\"3A\", ax=ax)\n",
    "sns.distplot( data.avg_3b, hist=False, kde_kws={\"shade\": True}, label=\"3B\", ax=ax)\n",
    "sns.distplot( data.avg_4a, hist=False, kde_kws={\"shade\": True}, label=\"4A\", ax=ax)\n",
    "plt.xlabel('average')\n",
    "plt.ylabel('density')\n",
    "plt.legend()"
   ]
  },
  {
   "cell_type": "code",
   "execution_count": 153,
   "metadata": {},
   "outputs": [
    {
     "data": {
      "text/plain": [
       "<matplotlib.legend.Legend at 0x11c2eb320>"
      ]
     },
     "execution_count": 153,
     "metadata": {},
     "output_type": "execute_result"
    },
    {
     "data": {
      "image/png": "[encoded data removed]",
      "text/plain": [
       "<Figure size 720x504 with 1 Axes>"
      ]
     },
     "metadata": {
      "needs_background": "light"
     },
     "output_type": "display_data"
    }
   ],
   "source": [
    "fig, ax = plt.subplots(figsize=(10,7))\n",
    "sns.distplot( data.avg_4a_cumul, hist=False, kde_kws={\"shade\": True}, label=\"4A cumulative\", ax=ax)\n",
    "sns.distplot( data.avg_4b_estim, hist=False, kde_kws={\"shade\": True}, label=\"4B (estimated)\", ax=ax)\n",
    "sns.distplot( data.avg_4b_cumul_estim, hist=False, kde_kws={\"shade\": True}, label=\"4B cumulative (estimated)\", ax=ax)\n",
    "plt.xlabel('average')\n",
    "plt.ylabel('density')\n",
    "plt.legend()"
   ]
  },
  {
   "cell_type": "code",
   "execution_count": 60,
   "metadata": {},
   "outputs": [],
   "source": [
    "rent = pd.DataFrame([\n",
    "    data['rent_1a'].value_counts(normalize=True),\n",
    "    data['rent_1b'].value_counts(normalize=True),\n",
    "    data['rent_2a'].value_counts(normalize=True),\n",
    "    data['rent_2b'].value_counts(normalize=True),\n",
    "    data['rent_3a'].value_counts(normalize=True),\n",
    "    data['rent_3b'].value_counts(normalize=True),\n",
    "    data['rent_4a'].value_counts(normalize=True),\n",
    "    data['rent_4b'].value_counts(normalize=True)\n",
    "],index=['1A','1B','2A','2B','3A','3B','4A','4B'])"
   ]
  },
  {
   "cell_type": "code",
   "execution_count": 61,
   "metadata": {},
   "outputs": [
    {
     "data": {
      "text/html": [
       "<div>\n",
       "<style scoped>\n",
       "    .dataframe tbody tr th:only-of-type {\n",
       "        vertical-align: middle;\n",
       "    }\n",
       "\n",
       "    .dataframe tbody tr th {\n",
       "        vertical-align: top;\n",
       "    }\n",
       "\n",
       "    .dataframe thead th {\n",
       "        text-align: right;\n",
       "    }\n",
       "</style>\n",
       "<table border=\"1\" class=\"dataframe\">\n",
       "  <thead>\n",
       "    <tr style=\"text-align: right;\">\n",
       "      <th></th>\n",
       "      <th>&gt; $800/ month</th>\n",
       "      <th>$600 - 700/month</th>\n",
       "      <th>$700 - 800/month</th>\n",
       "      <th>Lived at home</th>\n",
       "      <th>$500 - 600/month</th>\n",
       "      <th>&lt; $500/ month</th>\n",
       "    </tr>\n",
       "  </thead>\n",
       "  <tbody>\n",
       "    <tr>\n",
       "      <th>1A</th>\n",
       "      <td>0.442623</td>\n",
       "      <td>0.196721</td>\n",
       "      <td>0.147541</td>\n",
       "      <td>0.098361</td>\n",
       "      <td>0.098361</td>\n",
       "      <td>0.016393</td>\n",
       "    </tr>\n",
       "    <tr>\n",
       "      <th>1B</th>\n",
       "      <td>0.372881</td>\n",
       "      <td>0.254237</td>\n",
       "      <td>0.135593</td>\n",
       "      <td>0.118644</td>\n",
       "      <td>0.101695</td>\n",
       "      <td>0.016949</td>\n",
       "    </tr>\n",
       "    <tr>\n",
       "      <th>2A</th>\n",
       "      <td>0.048387</td>\n",
       "      <td>0.306452</td>\n",
       "      <td>0.064516</td>\n",
       "      <td>0.145161</td>\n",
       "      <td>0.306452</td>\n",
       "      <td>0.129032</td>\n",
       "    </tr>\n",
       "    <tr>\n",
       "      <th>2B</th>\n",
       "      <td>0.048387</td>\n",
       "      <td>0.338710</td>\n",
       "      <td>0.161290</td>\n",
       "      <td>0.129032</td>\n",
       "      <td>0.306452</td>\n",
       "      <td>0.016129</td>\n",
       "    </tr>\n",
       "    <tr>\n",
       "      <th>3A</th>\n",
       "      <td>0.032258</td>\n",
       "      <td>0.370968</td>\n",
       "      <td>0.112903</td>\n",
       "      <td>0.096774</td>\n",
       "      <td>0.306452</td>\n",
       "      <td>0.080645</td>\n",
       "    </tr>\n",
       "    <tr>\n",
       "      <th>3B</th>\n",
       "      <td>0.116667</td>\n",
       "      <td>0.300000</td>\n",
       "      <td>0.200000</td>\n",
       "      <td>0.116667</td>\n",
       "      <td>0.233333</td>\n",
       "      <td>0.033333</td>\n",
       "    </tr>\n",
       "    <tr>\n",
       "      <th>4A</th>\n",
       "      <td>0.285714</td>\n",
       "      <td>0.174603</td>\n",
       "      <td>0.190476</td>\n",
       "      <td>0.126984</td>\n",
       "      <td>0.158730</td>\n",
       "      <td>0.063492</td>\n",
       "    </tr>\n",
       "    <tr>\n",
       "      <th>4B</th>\n",
       "      <td>0.269841</td>\n",
       "      <td>0.190476</td>\n",
       "      <td>0.222222</td>\n",
       "      <td>0.111111</td>\n",
       "      <td>0.158730</td>\n",
       "      <td>0.047619</td>\n",
       "    </tr>\n",
       "  </tbody>\n",
       "</table>\n",
       "</div>"
      ],
      "text/plain": [
       "    > $800/ month  $600 - 700/month  $700 - 800/month  Lived at home  \\\n",
       "1A  0.442623       0.196721          0.147541          0.098361        \n",
       "1B  0.372881       0.254237          0.135593          0.118644        \n",
       "2A  0.048387       0.306452          0.064516          0.145161        \n",
       "2B  0.048387       0.338710          0.161290          0.129032        \n",
       "3A  0.032258       0.370968          0.112903          0.096774        \n",
       "3B  0.116667       0.300000          0.200000          0.116667        \n",
       "4A  0.285714       0.174603          0.190476          0.126984        \n",
       "4B  0.269841       0.190476          0.222222          0.111111        \n",
       "\n",
       "    $500 - 600/month  < $500/ month  \n",
       "1A  0.098361          0.016393       \n",
       "1B  0.101695          0.016949       \n",
       "2A  0.306452          0.129032       \n",
       "2B  0.306452          0.016129       \n",
       "3A  0.306452          0.080645       \n",
       "3B  0.233333          0.033333       \n",
       "4A  0.158730          0.063492       \n",
       "4B  0.158730          0.047619       "
      ]
     },
     "execution_count": 61,
     "metadata": {},
     "output_type": "execute_result"
    }
   ],
   "source": [
    "rent"
   ]
  },
  {
   "cell_type": "code",
   "execution_count": 62,
   "metadata": {},
   "outputs": [],
   "source": [
    "cols = rent.columns.tolist()\n",
    "cols = [cols[i] for i in [0,2,1,4,5,3]]\n",
    "rent_ = rent[cols]"
   ]
  },
  {
   "cell_type": "code",
   "execution_count": 63,
   "metadata": {},
   "outputs": [
    {
     "data": {
      "text/plain": [
       "<matplotlib.legend.Legend at 0x1225f0eb8>"
      ]
     },
     "execution_count": 63,
     "metadata": {},
     "output_type": "execute_result"
    },
    {
     "data": {
      "image/png": "[encoded data removed]",
      "text/plain": [
       "<Figure size 720x504 with 1 Axes>"
      ]
     },
     "metadata": {
      "needs_background": "light"
     },
     "output_type": "display_data"
    }
   ],
   "source": [
    "fig, ax = plt.subplots(figsize=(10,7))\n",
    "rent_[::-1].plot.barh(stacked=True, ax=ax)\n",
    "ax.legend(loc='center left', bbox_to_anchor=(1, 0.5))"
   ]
  },
  {
   "cell_type": "code",
   "execution_count": null,
   "metadata": {},
   "outputs": [],
   "source": []
  }
 ],
 "metadata": {
  "kernelspec": {
   "display_name": "Python 3",
   "language": "python",
   "name": "python3"
  },
  "language_info": {
   "codemirror_mode": {
    "name": "ipython",
    "version": 3
   },
   "file_extension": ".py",
   "mimetype": "text/x-python",
   "name": "python",
   "nbconvert_exporter": "python",
   "pygments_lexer": "ipython3",
   "version": "3.7.1"
  }
 },
 "nbformat": 4,
 "nbformat_minor": 2
}
